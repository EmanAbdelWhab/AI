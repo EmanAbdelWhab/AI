{
 "cells": [
  {
   "cell_type": "markdown",
   "id": "d75fce90",
   "metadata": {},
   "source": [
    "# Hyper Parameter Tuning"
   ]
  },
  {
   "cell_type": "code",
   "execution_count": 1,
   "id": "a395e03a",
   "metadata": {},
   "outputs": [],
   "source": [
    "#جودة النموذج تتعلق بطريقة اختيارك للهايبر para"
   ]
  },
  {
   "cell_type": "code",
   "execution_count": 2,
   "id": "35d70679",
   "metadata": {},
   "outputs": [],
   "source": [
    "#how to choose hyper\n",
    "#ترجع للخلفيه القديم"
   ]
  },
  {
   "cell_type": "markdown",
   "id": "4f06157e",
   "metadata": {},
   "source": [
    "# grid search"
   ]
  },
  {
   "cell_type": "code",
   "execution_count": 3,
   "id": "0f596920",
   "metadata": {},
   "outputs": [],
   "source": [
    "import pandas as pd\n",
    "import numpy as np\n",
    "import seaborn as sns \n",
    "import matplotlip as plt\n",
    "%matplotlib inline"
   ]
  },
  {
   "cell_type": "code",
   "execution_count": 4,
   "id": "3b19fbf2",
   "metadata": {},
   "outputs": [],
   "source": [
    "from sklearn.model_selection import GridSearchCV"
   ]
  },
  {
   "cell_type": "code",
   "execution_count": 5,
   "id": "864654e7",
   "metadata": {},
   "outputs": [
    {
     "name": "stdout",
     "output_type": "stream",
     "text": [
      "8\n"
     ]
    }
   ],
   "source": [
    "import os\n",
    "print(os.cpu_count())"
   ]
  },
  {
   "cell_type": "code",
   "execution_count": 6,
   "id": "f545a255",
   "metadata": {},
   "outputs": [],
   "source": [
    "from sklearn.linear_model import Ridge"
   ]
  },
  {
   "cell_type": "code",
   "execution_count": 7,
   "id": "7ad33cb7",
   "metadata": {},
   "outputs": [],
   "source": [
    " from  sklearn.datasets import load_boston"
   ]
  },
  {
   "cell_type": "code",
   "execution_count": 8,
   "id": "139d48ea",
   "metadata": {},
   "outputs": [
    {
     "name": "stderr",
     "output_type": "stream",
     "text": [
      "C:\\Users\\NV_User\\AppData\\Local\\Packages\\PythonSoftwareFoundation.Python.3.10_qbz5n2kfra8p0\\LocalCache\\local-packages\\Python310\\site-packages\\sklearn\\utils\\deprecation.py:87: FutureWarning: Function load_boston is deprecated; `load_boston` is deprecated in 1.0 and will be removed in 1.2.\n",
      "\n",
      "    The Boston housing prices dataset has an ethical problem. You can refer to\n",
      "    the documentation of this function for further details.\n",
      "\n",
      "    The scikit-learn maintainers therefore strongly discourage the use of this\n",
      "    dataset unless the purpose of the code is to study and educate about\n",
      "    ethical issues in data science and machine learning.\n",
      "\n",
      "    In this special case, you can fetch the dataset from the original\n",
      "    source::\n",
      "\n",
      "        import pandas as pd\n",
      "        import numpy as np\n",
      "\n",
      "\n",
      "        data_url = \"http://lib.stat.cmu.edu/datasets/boston\"\n",
      "        raw_df = pd.read_csv(data_url, sep=\"\\s+\", skiprows=22, header=None)\n",
      "        data = np.hstack([raw_df.values[::2, :], raw_df.values[1::2, :2]])\n",
      "        target = raw_df.values[1::2, 2]\n",
      "\n",
      "    Alternative datasets include the California housing dataset (i.e.\n",
      "    :func:`~sklearn.datasets.fetch_california_housing`) and the Ames housing\n",
      "    dataset. You can load the datasets as follows::\n",
      "\n",
      "        from sklearn.datasets import fetch_california_housing\n",
      "        housing = fetch_california_housing()\n",
      "\n",
      "    for the California housing dataset and::\n",
      "\n",
      "        from sklearn.datasets import fetch_openml\n",
      "        housing = fetch_openml(name=\"house_prices\", as_frame=True)\n",
      "\n",
      "    for the Ames housing dataset.\n",
      "    \n",
      "  warnings.warn(msg, category=FutureWarning)\n"
     ]
    }
   ],
   "source": [
    "x=load_boston().data\n",
    "y=load_boston().target\n"
   ]
  },
  {
   "cell_type": "code",
   "execution_count": 26,
   "id": "50f94816",
   "metadata": {},
   "outputs": [],
   "source": [
    "alpha=np.logspace(-5,2,25)\n",
    "para_grid={'alpha':alpha}"
   ]
  },
  {
   "cell_type": "code",
   "execution_count": 27,
   "id": "a5fe7b64",
   "metadata": {},
   "outputs": [],
   "source": [
    "reg=Ridge(fit_intercept=False)"
   ]
  },
  {
   "cell_type": "code",
   "execution_count": 28,
   "id": "9c90ceb9",
   "metadata": {},
   "outputs": [],
   "source": [
    "reg_cv=GridSearchCV(estimator=reg,\n",
    "                    param_grid=para_grid,\n",
    "                    cv=5)"
   ]
  },
  {
   "cell_type": "raw",
   "id": "00520ff1",
   "metadata": {},
   "source": [
    "type(reg_cv)"
   ]
  },
  {
   "cell_type": "code",
   "execution_count": 29,
   "id": "c0cbf36f",
   "metadata": {},
   "outputs": [
    {
     "data": {
      "text/plain": [
       "GridSearchCV(cv=5, estimator=Ridge(fit_intercept=False),\n",
       "             param_grid={'alpha': array([1.00000000e-05, 1.95734178e-05, 3.83118685e-05, 7.49894209e-05,\n",
       "       1.46779927e-04, 2.87298483e-04, 5.62341325e-04, 1.10069417e-03,\n",
       "       2.15443469e-03, 4.21696503e-03, 8.25404185e-03, 1.61559810e-02,\n",
       "       3.16227766e-02, 6.18965819e-02, 1.21152766e-01, 2.37137371e-01,\n",
       "       4.64158883e-01, 9.08517576e-01, 1.77827941e+00, 3.48070059e+00,\n",
       "       6.81292069e+00, 1.33352143e+01, 2.61015722e+01, 5.10896977e+01,\n",
       "       1.00000000e+02])})"
      ]
     },
     "execution_count": 29,
     "metadata": {},
     "output_type": "execute_result"
    }
   ],
   "source": [
    "reg_cv.fit(x,y)\n"
   ]
  },
  {
   "cell_type": "code",
   "execution_count": 30,
   "id": "34cb5e84",
   "metadata": {},
   "outputs": [
    {
     "name": "stdout",
     "output_type": "stream",
     "text": [
      "tuned ridge para : {'alpha': 13.33521432163324}\n",
      "ridge best score : 0.43673916915139055\n"
     ]
    }
   ],
   "source": [
    "print(\"tuned ridge para : {}\".format(reg_cv.best_params_))\n",
    "print(\"ridge best score : {}\".format(reg_cv.best_score_))"
   ]
  },
  {
   "cell_type": "markdown",
   "id": "79ca813b",
   "metadata": {},
   "source": [
    "# with randomization"
   ]
  },
  {
   "cell_type": "code",
   "execution_count": 31,
   "id": "6287b13f",
   "metadata": {},
   "outputs": [],
   "source": [
    "# random search اختيار نقاط عشوائية"
   ]
  },
  {
   "cell_type": "code",
   "execution_count": 32,
   "id": "8c5b34d9",
   "metadata": {},
   "outputs": [],
   "source": [
    "from sklearn.model_selection import RandomizedSearchCV"
   ]
  },
  {
   "cell_type": "raw",
   "id": "3d25a26d",
   "metadata": {},
   "source": [
    " "
   ]
  },
  {
   "cell_type": "code",
   "execution_count": 33,
   "id": "5fb2fb39",
   "metadata": {},
   "outputs": [
    {
     "data": {
      "text/plain": [
       "RandomizedSearchCV(cv=5, estimator=Ridge(fit_intercept=False),\n",
       "                   param_distributions={'alpha': array([1.00000000e-05, 1.95734178e-05, 3.83118685e-05, 7.49894209e-05,\n",
       "       1.46779927e-04, 2.87298483e-04, 5.62341325e-04, 1.10069417e-03,\n",
       "       2.15443469e-03, 4.21696503e-03, 8.25404185e-03, 1.61559810e-02,\n",
       "       3.16227766e-02, 6.18965819e-02, 1.21152766e-01, 2.37137371e-01,\n",
       "       4.64158883e-01, 9.08517576e-01, 1.77827941e+00, 3.48070059e+00,\n",
       "       6.81292069e+00, 1.33352143e+01, 2.61015722e+01, 5.10896977e+01,\n",
       "       1.00000000e+02])},\n",
       "                   random_state=10123)"
      ]
     },
     "execution_count": 33,
     "metadata": {},
     "output_type": "execute_result"
    }
   ],
   "source": [
    "R=RandomizedSearchCV(estimator=reg,\n",
    "                     param_distributions=para_grid,\n",
    "                     n_iter=10,\n",
    "                     cv=5,random_state=10123)\n",
    "R.fit(x,y)"
   ]
  },
  {
   "cell_type": "markdown",
   "id": "00db221e",
   "metadata": {},
   "source": [
    "# Ridge wirh RidgeCv"
   ]
  },
  {
   "cell_type": "code",
   "execution_count": 34,
   "id": "db32b8b1",
   "metadata": {},
   "outputs": [],
   "source": [
    "from sklearn.linear_model import RidgeCV"
   ]
  },
  {
   "cell_type": "code",
   "execution_count": 35,
   "id": "b053a87c",
   "metadata": {},
   "outputs": [],
   "source": [
    "#leave one out cross validationيعني كل مره بيخلي واحده مره هي ال test والباقي trainوهكذا بس علي الكميات القليله "
   ]
  },
  {
   "cell_type": "code",
   "execution_count": 37,
   "id": "4d458514",
   "metadata": {},
   "outputs": [],
   "source": [
    "cv=RidgeCV(alphas=alpha,\n",
    "          fit_intercept=False)"
   ]
  },
  {
   "cell_type": "code",
   "execution_count": 38,
   "id": "f3b47365",
   "metadata": {},
   "outputs": [
    {
     "data": {
      "text/plain": [
       "RidgeCV(alphas=array([1.00000000e-05, 1.95734178e-05, 3.83118685e-05, 7.49894209e-05,\n",
       "       1.46779927e-04, 2.87298483e-04, 5.62341325e-04, 1.10069417e-03,\n",
       "       2.15443469e-03, 4.21696503e-03, 8.25404185e-03, 1.61559810e-02,\n",
       "       3.16227766e-02, 6.18965819e-02, 1.21152766e-01, 2.37137371e-01,\n",
       "       4.64158883e-01, 9.08517576e-01, 1.77827941e+00, 3.48070059e+00,\n",
       "       6.81292069e+00, 1.33352143e+01, 2.61015722e+01, 5.10896977e+01,\n",
       "       1.00000000e+02]),\n",
       "        fit_intercept=False)"
      ]
     },
     "execution_count": 38,
     "metadata": {},
     "output_type": "execute_result"
    }
   ],
   "source": [
    "cv.fit(x,y)"
   ]
  },
  {
   "cell_type": "code",
   "execution_count": 39,
   "id": "8995eec6",
   "metadata": {},
   "outputs": [
    {
     "data": {
      "text/plain": [
       "-25.952637828855924"
      ]
     },
     "execution_count": 39,
     "metadata": {},
     "output_type": "execute_result"
    }
   ],
   "source": [
    "cv.best_score_"
   ]
  },
  {
   "cell_type": "code",
   "execution_count": 42,
   "id": "e333d72b",
   "metadata": {},
   "outputs": [
    {
     "data": {
      "text/plain": [
       "6.812920690579622"
      ]
     },
     "execution_count": 42,
     "metadata": {},
     "output_type": "execute_result"
    }
   ],
   "source": [
    "cv.alpha_"
   ]
  },
  {
   "cell_type": "code",
   "execution_count": 43,
   "id": "1a96d480",
   "metadata": {},
   "outputs": [],
   "source": [
    "cvR=RidgeCV(alphas=alpha,\n",
    "          fit_intercept=False,cv=5)"
   ]
  },
  {
   "cell_type": "code",
   "execution_count": 44,
   "id": "2d8eec59",
   "metadata": {},
   "outputs": [
    {
     "data": {
      "text/plain": [
       "RidgeCV(alphas=array([1.00000000e-05, 1.95734178e-05, 3.83118685e-05, 7.49894209e-05,\n",
       "       1.46779927e-04, 2.87298483e-04, 5.62341325e-04, 1.10069417e-03,\n",
       "       2.15443469e-03, 4.21696503e-03, 8.25404185e-03, 1.61559810e-02,\n",
       "       3.16227766e-02, 6.18965819e-02, 1.21152766e-01, 2.37137371e-01,\n",
       "       4.64158883e-01, 9.08517576e-01, 1.77827941e+00, 3.48070059e+00,\n",
       "       6.81292069e+00, 1.33352143e+01, 2.61015722e+01, 5.10896977e+01,\n",
       "       1.00000000e+02]),\n",
       "        cv=5, fit_intercept=False)"
      ]
     },
     "execution_count": 44,
     "metadata": {},
     "output_type": "execute_result"
    }
   ],
   "source": [
    "cvR.fit(x,y)"
   ]
  },
  {
   "cell_type": "code",
   "execution_count": 45,
   "id": "90349d72",
   "metadata": {},
   "outputs": [
    {
     "data": {
      "text/plain": [
       "0.43673916915139055"
      ]
     },
     "execution_count": 45,
     "metadata": {},
     "output_type": "execute_result"
    }
   ],
   "source": [
    "cvR.best_score_"
   ]
  },
  {
   "cell_type": "code",
   "execution_count": 46,
   "id": "c1a65007",
   "metadata": {},
   "outputs": [
    {
     "data": {
      "text/plain": [
       "13.33521432163324"
      ]
     },
     "execution_count": 46,
     "metadata": {},
     "output_type": "execute_result"
    }
   ],
   "source": [
    "cvR.alpha_"
   ]
  },
  {
   "cell_type": "code",
   "execution_count": 48,
   "id": "f00f840b",
   "metadata": {},
   "outputs": [],
   "source": [
    "from sklearn.model_selection import train_test_split"
   ]
  },
  {
   "cell_type": "code",
   "execution_count": 49,
   "id": "245ba6b9",
   "metadata": {},
   "outputs": [
    {
     "name": "stderr",
     "output_type": "stream",
     "text": [
      "C:\\Users\\NV_User\\AppData\\Local\\Packages\\PythonSoftwareFoundation.Python.3.10_qbz5n2kfra8p0\\LocalCache\\local-packages\\Python310\\site-packages\\sklearn\\utils\\deprecation.py:87: FutureWarning: Function load_boston is deprecated; `load_boston` is deprecated in 1.0 and will be removed in 1.2.\n",
      "\n",
      "    The Boston housing prices dataset has an ethical problem. You can refer to\n",
      "    the documentation of this function for further details.\n",
      "\n",
      "    The scikit-learn maintainers therefore strongly discourage the use of this\n",
      "    dataset unless the purpose of the code is to study and educate about\n",
      "    ethical issues in data science and machine learning.\n",
      "\n",
      "    In this special case, you can fetch the dataset from the original\n",
      "    source::\n",
      "\n",
      "        import pandas as pd\n",
      "        import numpy as np\n",
      "\n",
      "\n",
      "        data_url = \"http://lib.stat.cmu.edu/datasets/boston\"\n",
      "        raw_df = pd.read_csv(data_url, sep=\"\\s+\", skiprows=22, header=None)\n",
      "        data = np.hstack([raw_df.values[::2, :], raw_df.values[1::2, :2]])\n",
      "        target = raw_df.values[1::2, 2]\n",
      "\n",
      "    Alternative datasets include the California housing dataset (i.e.\n",
      "    :func:`~sklearn.datasets.fetch_california_housing`) and the Ames housing\n",
      "    dataset. You can load the datasets as follows::\n",
      "\n",
      "        from sklearn.datasets import fetch_california_housing\n",
      "        housing = fetch_california_housing()\n",
      "\n",
      "    for the California housing dataset and::\n",
      "\n",
      "        from sklearn.datasets import fetch_openml\n",
      "        housing = fetch_openml(name=\"house_prices\", as_frame=True)\n",
      "\n",
      "    for the Ames housing dataset.\n",
      "    \n",
      "  warnings.warn(msg, category=FutureWarning)\n"
     ]
    }
   ],
   "source": [
    "x=load_boston().data\n",
    "y=load_boston().target"
   ]
  },
  {
   "cell_type": "code",
   "execution_count": 50,
   "id": "9cc020fb",
   "metadata": {},
   "outputs": [],
   "source": [
    "x_train,x_test,y_train,y_test=\\\n",
    "                train_test_split(x,y,\n",
    "                                test_size=0.20,random_state=10123)"
   ]
  },
  {
   "cell_type": "code",
   "execution_count": 52,
   "id": "3460f0d6",
   "metadata": {},
   "outputs": [],
   "source": [
    "alpha_space=np.logspace(-5,2,25)\n",
    "param_grid={'alpha':alpha_space}\n",
    "ridge_final =Ridge(fit_intercept=False)\n",
    "ridge_final_cv=GridSearchCV(ridge_final,\n",
    "                           param_grid=param_grid,\n",
    "                           cv=5,\n",
    "                           refit=True)"
   ]
  },
  {
   "cell_type": "code",
   "execution_count": 53,
   "id": "9d47c329",
   "metadata": {},
   "outputs": [
    {
     "data": {
      "text/plain": [
       "GridSearchCV(cv=5, estimator=Ridge(fit_intercept=False),\n",
       "             param_grid={'alpha': array([1.00000000e-05, 1.95734178e-05, 3.83118685e-05, 7.49894209e-05,\n",
       "       1.46779927e-04, 2.87298483e-04, 5.62341325e-04, 1.10069417e-03,\n",
       "       2.15443469e-03, 4.21696503e-03, 8.25404185e-03, 1.61559810e-02,\n",
       "       3.16227766e-02, 6.18965819e-02, 1.21152766e-01, 2.37137371e-01,\n",
       "       4.64158883e-01, 9.08517576e-01, 1.77827941e+00, 3.48070059e+00,\n",
       "       6.81292069e+00, 1.33352143e+01, 2.61015722e+01, 5.10896977e+01,\n",
       "       1.00000000e+02])})"
      ]
     },
     "execution_count": 53,
     "metadata": {},
     "output_type": "execute_result"
    }
   ],
   "source": [
    "ridge_final_cv.fit(x_train,y_train)"
   ]
  },
  {
   "cell_type": "code",
   "execution_count": 55,
   "id": "09186237",
   "metadata": {},
   "outputs": [],
   "source": [
    "pred=ridge_final_cv.predict(x_test)"
   ]
  },
  {
   "cell_type": "code",
   "execution_count": 57,
   "id": "d03514fa",
   "metadata": {},
   "outputs": [
    {
     "name": "stdout",
     "output_type": "stream",
     "text": [
      "the R^2 of the ridge regression is : 0.7758\n"
     ]
    }
   ],
   "source": [
    "print(\"the R^2 of the ridge regression is : {:0.4f}\".\\\n",
    "     format(ridge_final_cv.score(x_test,y_test)))"
   ]
  },
  {
   "cell_type": "code",
   "execution_count": 58,
   "id": "f9c51e06",
   "metadata": {},
   "outputs": [],
   "source": [
    "from sklearn.metrics import mean_squared_error"
   ]
  },
  {
   "cell_type": "code",
   "execution_count": 62,
   "id": "8d6c9d3b",
   "metadata": {},
   "outputs": [
    {
     "name": "stdout",
     "output_type": "stream",
     "text": [
      "the rmse is : 4.3806\n"
     ]
    }
   ],
   "source": [
    "print(\"the rmse is : {:.4f}\".format(\n",
    "    np.sqrt(mean_squared_error(pred,y_test) )))"
   ]
  },
  {
   "cell_type": "code",
   "execution_count": null,
   "id": "5c23a899",
   "metadata": {},
   "outputs": [],
   "source": []
  },
  {
   "cell_type": "code",
   "execution_count": null,
   "id": "8a4cb28b",
   "metadata": {},
   "outputs": [],
   "source": []
  }
 ],
 "metadata": {
  "kernelspec": {
   "display_name": "Python 3 (ipykernel)",
   "language": "python",
   "name": "python3"
  },
  "language_info": {
   "codemirror_mode": {
    "name": "ipython",
    "version": 3
   },
   "file_extension": ".py",
   "mimetype": "text/x-python",
   "name": "python",
   "nbconvert_exporter": "python",
   "pygments_lexer": "ipython3",
   "version": "3.10.4"
  }
 },
 "nbformat": 4,
 "nbformat_minor": 5
}
