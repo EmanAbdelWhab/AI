{
 "cells": [
  {
   "cell_type": "code",
   "execution_count": 265,
   "id": "013a4f2e",
   "metadata": {},
   "outputs": [],
   "source": [
    "class vichels :\n",
    "    def __init__(self, name, max_speed, mileage) :\n",
    "        self.name=name\n",
    "        self.max_speed=max_speed\n",
    "        self.mileage=mileage\n",
    "        \n",
    "    def seating_capacity(self,capacity) :\n",
    "        self.capacity=capacity\n",
    "        cap=print(\"The seating capacityof a {} is {} passengers\".format(self.name,self.capacity))\n",
    "class bus (vichels):\n",
    "    \n",
    "    def __init__(self,name, max_speed, mileage) :\n",
    "        \n",
    "        \n",
    "        super().__init__(name, max_speed, mileage)\n",
    "         \n",
    "    def seating_capacity(self) :\n",
    "        capacity=50\n",
    "        return capacity\n",
    "    def fare(self,capacity):\n",
    "        fare = capacity *100\n",
    "        return fare\n",
    "        "
   ]
  },
  {
   "cell_type": "code",
   "execution_count": 266,
   "id": "6812509b",
   "metadata": {},
   "outputs": [],
   "source": [
    "car=vichels(\"car\",100,50)"
   ]
  },
  {
   "cell_type": "code",
   "execution_count": 267,
   "id": "64a88858",
   "metadata": {},
   "outputs": [
    {
     "name": "stdout",
     "output_type": "stream",
     "text": [
      "The seating capacityof a car is 5 passengers\n"
     ]
    }
   ],
   "source": [
    "car.seating_capacity(5)"
   ]
  },
  {
   "cell_type": "code",
   "execution_count": 268,
   "id": "7a607d7e",
   "metadata": {},
   "outputs": [],
   "source": [
    "bus1=bus(\"bus\",100,50)"
   ]
  },
  {
   "cell_type": "code",
   "execution_count": 269,
   "id": "8732ca59",
   "metadata": {},
   "outputs": [
    {
     "data": {
      "text/plain": [
       "50"
      ]
     },
     "execution_count": 269,
     "metadata": {},
     "output_type": "execute_result"
    }
   ],
   "source": [
    "bus1.seating_capacity()"
   ]
  },
  {
   "cell_type": "code",
   "execution_count": 270,
   "id": "e7b170f9",
   "metadata": {},
   "outputs": [
    {
     "data": {
      "text/plain": [
       "5000"
      ]
     },
     "execution_count": 270,
     "metadata": {},
     "output_type": "execute_result"
    }
   ],
   "source": [
    "bus1.fare(50)"
   ]
  },
  {
   "cell_type": "code",
   "execution_count": null,
   "id": "c2be084d",
   "metadata": {},
   "outputs": [],
   "source": []
  },
  {
   "cell_type": "code",
   "execution_count": null,
   "id": "4794282f",
   "metadata": {},
   "outputs": [],
   "source": []
  }
 ],
 "metadata": {
  "kernelspec": {
   "display_name": "Python 3 (ipykernel)",
   "language": "python",
   "name": "python3"
  },
  "language_info": {
   "codemirror_mode": {
    "name": "ipython",
    "version": 3
   },
   "file_extension": ".py",
   "mimetype": "text/x-python",
   "name": "python",
   "nbconvert_exporter": "python",
   "pygments_lexer": "ipython3",
   "version": "3.9.12"
  }
 },
 "nbformat": 4,
 "nbformat_minor": 5
}
