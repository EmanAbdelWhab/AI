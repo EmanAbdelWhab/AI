{
 "cells": [
  {
   "cell_type": "code",
   "execution_count": 22,
   "id": "1e7df8ea",
   "metadata": {},
   "outputs": [],
   "source": [
    "from sklearn.linear_model import LogisticRegression\n",
    "from sklearn.model_selection import train_test_split\n",
    "from sklearn.datasets import load_breast_cancer\n",
    "from sklearn.metrics import confusion_matrix\n",
    "import seaborn as sns\n",
    "import matplotlib.pyplot as plt\n",
    "from sklearn.metrics import accuracy_score\n",
    "from sklearn.metrics import f1_score\n",
    "from sklearn.metrics import recall_score\n",
    "from sklearn.metrics import precision_score\n",
    "from sklearn.metrics import precision_recall_fscore_support\n",
    "from sklearn.metrics import precision_recall_curve\n",
    "from sklearn.metrics import classification_report\n",
    "from sklearn.metrics import roc_curve\n",
    "from sklearn.metrics import auc\n",
    "from sklearn.metrics import roc_auc_score\n",
    "from sklearn.metrics import zero_one_loss\n"
   ]
  },
  {
   "cell_type": "code",
   "execution_count": 6,
   "id": "add3ecad",
   "metadata": {},
   "outputs": [],
   "source": [
    "breast=load_breast_cancer()\n",
    "X=breast.data\n",
    "\n",
    "y=breast.target"
   ]
  },
  {
   "cell_type": "code",
   "execution_count": 7,
   "id": "eb3df5a5",
   "metadata": {},
   "outputs": [],
   "source": [
    "X_train, X_test, y_train, y_test = train_test_split(\n",
    "  X, y, test_size=0.33, random_state=42)"
   ]
  },
  {
   "cell_type": "code",
   "execution_count": null,
   "id": "7beaa0db",
   "metadata": {},
   "outputs": [],
   "source": []
  },
  {
   "cell_type": "code",
   "execution_count": null,
   "id": "c2150f0a",
   "metadata": {},
   "outputs": [],
   "source": []
  },
  {
   "cell_type": "code",
   "execution_count": null,
   "id": "0d9f1e93",
   "metadata": {},
   "outputs": [],
   "source": []
  },
  {
   "cell_type": "code",
   "execution_count": null,
   "id": "fb209f50",
   "metadata": {},
   "outputs": [],
   "source": []
  },
  {
   "cell_type": "code",
   "execution_count": 8,
   "id": "4e4c1ed3",
   "metadata": {},
   "outputs": [],
   "source": [
    "logistic=LogisticRegression()"
   ]
  },
  {
   "cell_type": "code",
   "execution_count": 9,
   "id": "4e00659b",
   "metadata": {},
   "outputs": [
    {
     "name": "stderr",
     "output_type": "stream",
     "text": [
      "C:\\Users\\NV_User\\anaconda3\\lib\\site-packages\\sklearn\\linear_model\\_logistic.py:814: ConvergenceWarning: lbfgs failed to converge (status=1):\n",
      "STOP: TOTAL NO. of ITERATIONS REACHED LIMIT.\n",
      "\n",
      "Increase the number of iterations (max_iter) or scale the data as shown in:\n",
      "    https://scikit-learn.org/stable/modules/preprocessing.html\n",
      "Please also refer to the documentation for alternative solver options:\n",
      "    https://scikit-learn.org/stable/modules/linear_model.html#logistic-regression\n",
      "  n_iter_i = _check_optimize_result(\n"
     ]
    },
    {
     "data": {
      "text/plain": [
       "LogisticRegression()"
      ]
     },
     "execution_count": 9,
     "metadata": {},
     "output_type": "execute_result"
    }
   ],
   "source": [
    "logistic.fit(X_train,y_train) "
   ]
  },
  {
   "cell_type": "code",
   "execution_count": 10,
   "id": "3add5338",
   "metadata": {},
   "outputs": [
    {
     "name": "stdout",
     "output_type": "stream",
     "text": [
      "train score 0.9553805774278216\n",
      "test score 0.9574468085106383\n",
      "classes are [0 1]\n",
      "iteration is [100]\n"
     ]
    }
   ],
   "source": [
    "print('train score',logistic.score(X_train,y_train))\n",
    "print('test score',logistic.score(X_test,y_test))\n",
    "print('classes are',logistic.classes_)\n",
    "print('iteration is',logistic.n_iter_)"
   ]
  },
  {
   "cell_type": "code",
   "execution_count": 11,
   "id": "217d2b4d",
   "metadata": {},
   "outputs": [
    {
     "name": "stdout",
     "output_type": "stream",
     "text": [
      "predict is [1 0 0 1 1 0 0 0 1 1]\n",
      "predict probability is [[1.77461499e-01 8.22538501e-01]\n",
      " [9.99999998e-01 1.61634942e-09]\n",
      " [9.98036685e-01 1.96331535e-03]\n",
      " [5.21255983e-03 9.94787440e-01]\n",
      " [1.41718019e-03 9.98582820e-01]\n",
      " [1.00000000e+00 2.75193430e-10]\n",
      " [1.00000000e+00 3.13162679e-13]\n",
      " [9.91535189e-01 8.46481057e-03]\n",
      " [1.81185144e-03 9.98188149e-01]\n",
      " [1.46576375e-02 9.85342363e-01]]\n"
     ]
    }
   ],
   "source": [
    "y_pred=logistic.predict(X_test)\n",
    "y_pred_prob=logistic.predict_proba(X_test)\n",
    "print('predict is',y_pred[:10])\n",
    "print('predict probability is',y_pred_prob[:10])"
   ]
  },
  {
   "cell_type": "code",
   "execution_count": 13,
   "id": "ecee45fd",
   "metadata": {},
   "outputs": [
    {
     "name": "stdout",
     "output_type": "stream",
     "text": [
      "confusion mmetrucs [[ 63   4]\n",
      " [  4 117]]\n"
     ]
    }
   ],
   "source": [
    "confusion=confusion_matrix(y_test,y_pred)\n",
    "print ('confusion mmetrucs',confusion)"
   ]
  },
  {
   "cell_type": "code",
   "execution_count": 14,
   "id": "f06fc207",
   "metadata": {},
   "outputs": [
    {
     "data": {
      "image/png": "[encoded data removed]",
      "text/plain": [
       "<Figure size 432x288 with 2 Axes>"
      ]
     },
     "metadata": {
      "needs_background": "light"
     },
     "output_type": "display_data"
    }
   ],
   "source": [
    "sns.heatmap(confusion,center=True)\n",
    "plt.show()"
   ]
  },
  {
   "cell_type": "code",
   "execution_count": 24,
   "id": "9d176bb1",
   "metadata": {},
   "outputs": [
    {
     "name": "stdout",
     "output_type": "stream",
     "text": [
      "accuracy_score 180\n"
     ]
    }
   ],
   "source": [
    "accuracy=accuracy_score(y_test ,y_pred , normalize=False)\n",
    "print('accuracy_score', accuracy) #مجموع ال ترو"
   ]
  },
  {
   "cell_type": "code",
   "execution_count": 25,
   "id": "559f586b",
   "metadata": {},
   "outputs": [
    {
     "name": "stdout",
     "output_type": "stream",
     "text": [
      "f1_score 0.9669421487603306\n"
     ]
    }
   ],
   "source": [
    "f1_score=f1_score(y_test ,y_pred )\n",
    "print('f1_score',f1_score)"
   ]
  },
  {
   "cell_type": "code",
   "execution_count": 26,
   "id": "bac8080a",
   "metadata": {},
   "outputs": [
    {
     "name": "stdout",
     "output_type": "stream",
     "text": [
      "recall_score 0.9669421487603306\n"
     ]
    }
   ],
   "source": [
    "recall_score=recall_score(y_test ,y_pred )\n",
    "print('recall_score',recall_score)"
   ]
  },
  {
   "cell_type": "code",
   "execution_count": 27,
   "id": "35d3ed87",
   "metadata": {},
   "outputs": [
    {
     "name": "stdout",
     "output_type": "stream",
     "text": [
      "precision_score 0.9669421487603306\n"
     ]
    }
   ],
   "source": [
    "precision_score=precision_score(y_test ,y_pred )\n",
    "print(\"precision_score\",precision_score)"
   ]
  },
  {
   "cell_type": "code",
   "execution_count": null,
   "id": "fd0b954b",
   "metadata": {},
   "outputs": [],
   "source": []
  }
 ],
 "metadata": {
  "kernelspec": {
   "display_name": "Python 3 (ipykernel)",
   "language": "python",
   "name": "python3"
  },
  "language_info": {
   "codemirror_mode": {
    "name": "ipython",
    "version": 3
   },
   "file_extension": ".py",
   "mimetype": "text/x-python",
   "name": "python",
   "nbconvert_exporter": "python",
   "pygments_lexer": "ipython3",
   "version": "3.9.12"
  }
 },
 "nbformat": 4,
 "nbformat_minor": 5
}
