{
 "cells": [
  {
   "cell_type": "markdown",
   "id": "31440316",
   "metadata": {},
   "source": []
  },
  {
   "cell_type": "code",
   "execution_count": 1,
   "id": "946b3a91",
   "metadata": {},
   "outputs": [],
   "source": [
    "from sklearn.svm import SVR"
   ]
  },
  {
   "cell_type": "code",
   "execution_count": 2,
   "id": "aa11f804",
   "metadata": {},
   "outputs": [],
   "source": [
    "import numpy as np"
   ]
  },
  {
   "cell_type": "code",
   "execution_count": 3,
   "id": "f5190570",
   "metadata": {},
   "outputs": [],
   "source": [
    "n_samples=10\n",
    "n_features=10\n",
    "np.random.seed(0)"
   ]
  },
  {
   "cell_type": "code",
   "execution_count": 4,
   "id": "9a6d039d",
   "metadata": {},
   "outputs": [],
   "source": [
    "X=np.random.randn(n_samples, n_features)\n",
    "y=np.random.randn(n_samples)"
   ]
  },
  {
   "cell_type": "code",
   "execution_count": 6,
   "id": "99f58aa4",
   "metadata": {},
   "outputs": [
    {
     "data": {
      "text/plain": [
       "(10, 10)"
      ]
     },
     "execution_count": 6,
     "metadata": {},
     "output_type": "execute_result"
    }
   ],
   "source": [
    "X.shape"
   ]
  },
  {
   "cell_type": "code",
   "execution_count": 7,
   "id": "9d52bd6a",
   "metadata": {},
   "outputs": [
    {
     "data": {
      "text/plain": [
       "(10,)"
      ]
     },
     "execution_count": 7,
     "metadata": {},
     "output_type": "execute_result"
    }
   ],
   "source": [
    "y.shape"
   ]
  },
  {
   "cell_type": "code",
   "execution_count": 8,
   "id": "88fb927e",
   "metadata": {},
   "outputs": [],
   "source": [
    "clf=SVR(gamma='scale' , C=1.0 ,epsilon=0.2)"
   ]
  },
  {
   "cell_type": "code",
   "execution_count": 9,
   "id": "9ac786b5",
   "metadata": {},
   "outputs": [
    {
     "data": {
      "text/plain": [
       "SVR(epsilon=0.2)"
      ]
     },
     "execution_count": 9,
     "metadata": {},
     "output_type": "execute_result"
    }
   ],
   "source": [
    "clf.fit(X,y)"
   ]
  },
  {
   "cell_type": "code",
   "execution_count": 10,
   "id": "0b62d0cd",
   "metadata": {},
   "outputs": [],
   "source": [
    "newx=np.random.randn(1,10)"
   ]
  },
  {
   "cell_type": "code",
   "execution_count": 11,
   "id": "d9579ed6",
   "metadata": {},
   "outputs": [],
   "source": [
    "y_pred=clf.predict(newx)"
   ]
  },
  {
   "cell_type": "code",
   "execution_count": 13,
   "id": "c824c023",
   "metadata": {},
   "outputs": [
    {
     "name": "stdout",
     "output_type": "stream",
     "text": [
      "[[-1.0797781  -0.69342441 -2.33804615  1.66226234 -0.27535274 -0.74657045\n",
      "   1.22510346 -0.11043246 -1.27348939  0.03178615]]  __________ [-0.1709208]\n"
     ]
    }
   ],
   "source": [
    "print(newx ,' __________', y_pred)"
   ]
  },
  {
   "cell_type": "code",
   "execution_count": 14,
   "id": "a2b7946d",
   "metadata": {},
   "outputs": [
    {
     "data": {
      "text/plain": [
       "0.6939286617688691"
      ]
     },
     "execution_count": 14,
     "metadata": {},
     "output_type": "execute_result"
    }
   ],
   "source": [
    "clf.score(X,y)"
   ]
  },
  {
   "cell_type": "code",
   "execution_count": null,
   "id": "8a0f6dd0",
   "metadata": {},
   "outputs": [],
   "source": []
  }
 ],
 "metadata": {
  "kernelspec": {
   "display_name": "Python 3 (ipykernel)",
   "language": "python",
   "name": "python3"
  },
  "language_info": {
   "codemirror_mode": {
    "name": "ipython",
    "version": 3
   },
   "file_extension": ".py",
   "mimetype": "text/x-python",
   "name": "python",
   "nbconvert_exporter": "python",
   "pygments_lexer": "ipython3",
   "version": "3.9.12"
  }
 },
 "nbformat": 4,
 "nbformat_minor": 5
}
