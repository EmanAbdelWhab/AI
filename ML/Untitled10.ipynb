{
 "cells": [
  {
   "cell_type": "code",
   "execution_count": null,
   "id": "21be8720",
   "metadata": {},
   "outputs": [],
   "source": [
    "Write a program to get the second highest number in an array of integers.\n",
    "lst=[20,30,45,10,60]"
   ]
  },
  {
   "cell_type": "code",
   "execution_count": 5,
   "id": "2623c3c0",
   "metadata": {},
   "outputs": [
    {
     "name": "stdout",
     "output_type": "stream",
     "text": [
      "45\n"
     ]
    }
   ],
   "source": [
    "lst=[20,30,45,10,60]\n",
    "\n",
    "lst.sort()\n",
    "print(lst[-2])"
   ]
  },
  {
   "cell_type": "code",
   "execution_count": null,
   "id": "a6208471",
   "metadata": {},
   "outputs": [],
   "source": [
    "s={\"j\",\"e\",\"g\"}\n",
    "s.add(1,\"v\")"
   ]
  },
  {
   "cell_type": "code",
   "execution_count": null,
   "id": "1d5d673b",
   "metadata": {},
   "outputs": [],
   "source": [
    "var = \"James\" * 2  * 3\n",
    "print(var)"
   ]
  },
  {
   "cell_type": "code",
   "execution_count": null,
   "id": "3bed4fab",
   "metadata": {},
   "outputs": [],
   "source": [
    "for i in range(15, 10, -1):\n",
    "    print( i )"
   ]
  },
  {
   "cell_type": "code",
   "execution_count": null,
   "id": "f0a6fdaf",
   "metadata": {},
   "outputs": [],
   "source": [
    "def c(num1,num2=4):\n",
    "    res=num1*num2\n",
    "    print(res)\n",
    "c(5,6)"
   ]
  },
  {
   "cell_type": "code",
   "execution_count": null,
   "id": "36f3d436",
   "metadata": {},
   "outputs": [],
   "source": [
    "v1=1\n",
    "v2=2\n",
    "v3=\"3\"\n",
    "print(v1+v2+v3)"
   ]
  },
  {
   "cell_type": "code",
   "execution_count": null,
   "id": "5f891cf5",
   "metadata": {},
   "outputs": [],
   "source": [
    "var= \"James Bond\";           print(var[2::-1])"
   ]
  },
  {
   "cell_type": "code",
   "execution_count": null,
   "id": "3860000d",
   "metadata": {},
   "outputs": [],
   "source": [
    "p, q, r = 10, 20 ,30;               print(p, r)"
   ]
  },
  {
   "cell_type": "code",
   "execution_count": null,
   "id": "ae89f32a",
   "metadata": {},
   "outputs": [],
   "source": [
    "str=\"hello\"; print(str[:2])"
   ]
  },
  {
   "cell_type": "code",
   "execution_count": null,
   "id": "dd12afd5",
   "metadata": {},
   "outputs": [],
   "source": [
    "DataInput = (1, 'Jhon', 1+3j)\n",
    "print(type(DataInput))"
   ]
  },
  {
   "cell_type": "code",
   "execution_count": null,
   "id": "b332c0ac",
   "metadata": {},
   "outputs": [],
   "source": [
    "x = 3         \n",
    "y = 10                    \n",
    "x = y = 2           \n",
    "print(y)"
   ]
  },
  {
   "cell_type": "code",
   "execution_count": null,
   "id": "3212b443",
   "metadata": {},
   "outputs": [],
   "source": [
    "x = True      \n",
    "y = False    \n",
    "z = True\n",
    "print(x and y or z)"
   ]
  },
  {
   "cell_type": "code",
   "execution_count": null,
   "id": "f4fce4f5",
   "metadata": {},
   "outputs": [],
   "source": [
    "list1 = [5, 8, 6]\n",
    "print (max(list1) < min(list1))"
   ]
  },
  {
   "cell_type": "code",
   "execution_count": null,
   "id": "c6372be3",
   "metadata": {},
   "outputs": [],
   "source": [
    "     \n",
    "var = [\"ITI Robotics\", [4, 8, 12, 16]]"
   ]
  },
  {
   "cell_type": "code",
   "execution_count": null,
   "id": "ec9f7fc7",
   "metadata": {},
   "outputs": [],
   "source": [
    "type(var)"
   ]
  },
  {
   "cell_type": "code",
   "execution_count": null,
   "id": "5f210a04",
   "metadata": {},
   "outputs": [],
   "source": [
    "sampleList = [10, 20, 30, 40]\n",
    "del sampleList\n",
    "print(sampleList)"
   ]
  },
  {
   "cell_type": "code",
   "execution_count": null,
   "id": "3b0447c0",
   "metadata": {},
   "outputs": [],
   "source": [
    " 'cat' > 'DogG'"
   ]
  },
  {
   "cell_type": "code",
   "execution_count": null,
   "id": "6dea023b",
   "metadata": {},
   "outputs": [],
   "source": [
    "class A:\n",
    "    def _init__(self,x=1):\n",
    "        self.x =x\n",
    "\n",
    "class der(A):\n",
    "    def _init__(self,y=1):\n",
    "        super().__init__()\n",
    "        self.y = y\n",
    "        \n",
    "        \n",
    "        \n",
    "obj= der()\n",
    "print(obj.y)"
   ]
  },
  {
   "cell_type": "code",
   "execution_count": null,
   "id": "e494c8cb",
   "metadata": {},
   "outputs": [],
   "source": [
    "l=list('HELLO')\n",
    "print(f\"'first={l[0]}, third={l[2]}'\")"
   ]
  },
  {
   "cell_type": "code",
   "execution_count": null,
   "id": "b14a903b",
   "metadata": {},
   "outputs": [],
   "source": [
    "a= '-ITI-'    \n",
    "b= 10   \n",
    "print (a+b)"
   ]
  },
  {
   "cell_type": "code",
   "execution_count": null,
   "id": "ee92115d",
   "metadata": {},
   "outputs": [],
   "source": []
  }
 ],
 "metadata": {
  "kernelspec": {
   "display_name": "Python 3 (ipykernel)",
   "language": "python",
   "name": "python3"
  },
  "language_info": {
   "codemirror_mode": {
    "name": "ipython",
    "version": 3
   },
   "file_extension": ".py",
   "mimetype": "text/x-python",
   "name": "python",
   "nbconvert_exporter": "python",
   "pygments_lexer": "ipython3",
   "version": "3.9.12"
  }
 },
 "nbformat": 4,
 "nbformat_minor": 5
}
