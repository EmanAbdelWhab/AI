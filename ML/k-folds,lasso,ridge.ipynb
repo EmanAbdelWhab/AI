{
 "cells": [
  {
   "cell_type": "code",
   "execution_count": 33,
   "id": "5a01a222",
   "metadata": {},
   "outputs": [
    {
     "name": "stdout",
     "output_type": "stream",
     "text": [
      "Using matplotlib backend: <object object at 0x000001E4AEE9EFA0>\n"
     ]
    }
   ],
   "source": [
    "import numpy as np\n",
    "import pandas as pd\n",
    "import matplotlib.pyplot as plt\n",
    "%matplotlib"
   ]
  },
  {
   "cell_type": "code",
   "execution_count": 34,
   "id": "f86e5dc8",
   "metadata": {},
   "outputs": [],
   "source": [
    "from sklearn.datasets import load_boston"
   ]
  },
  {
   "cell_type": "code",
   "execution_count": 35,
   "id": "71d30a0e",
   "metadata": {},
   "outputs": [
    {
     "name": "stderr",
     "output_type": "stream",
     "text": [
      "C:\\Users\\NV_User\\anaconda3\\lib\\site-packages\\sklearn\\utils\\deprecation.py:87: FutureWarning: Function load_boston is deprecated; `load_boston` is deprecated in 1.0 and will be removed in 1.2.\n",
      "\n",
      "    The Boston housing prices dataset has an ethical problem. You can refer to\n",
      "    the documentation of this function for further details.\n",
      "\n",
      "    The scikit-learn maintainers therefore strongly discourage the use of this\n",
      "    dataset unless the purpose of the code is to study and educate about\n",
      "    ethical issues in data science and machine learning.\n",
      "\n",
      "    In this special case, you can fetch the dataset from the original\n",
      "    source::\n",
      "\n",
      "        import pandas as pd\n",
      "        import numpy as np\n",
      "\n",
      "\n",
      "        data_url = \"http://lib.stat.cmu.edu/datasets/boston\"\n",
      "        raw_df = pd.read_csv(data_url, sep=\"\\s+\", skiprows=22, header=None)\n",
      "        data = np.hstack([raw_df.values[::2, :], raw_df.values[1::2, :2]])\n",
      "        target = raw_df.values[1::2, 2]\n",
      "\n",
      "    Alternative datasets include the California housing dataset (i.e.\n",
      "    :func:`~sklearn.datasets.fetch_california_housing`) and the Ames housing\n",
      "    dataset. You can load the datasets as follows::\n",
      "\n",
      "        from sklearn.datasets import fetch_california_housing\n",
      "        housing = fetch_california_housing()\n",
      "\n",
      "    for the California housing dataset and::\n",
      "\n",
      "        from sklearn.datasets import fetch_openml\n",
      "        housing = fetch_openml(name=\"house_prices\", as_frame=True)\n",
      "\n",
      "    for the Ames housing dataset.\n",
      "    \n",
      "  warnings.warn(msg, category=FutureWarning)\n"
     ]
    }
   ],
   "source": [
    "boston=load_boston()"
   ]
  },
  {
   "cell_type": "code",
   "execution_count": 36,
   "id": "0c82d2b6",
   "metadata": {},
   "outputs": [],
   "source": [
    "x=boston.data\n",
    "y=boston.target"
   ]
  },
  {
   "cell_type": "code",
   "execution_count": 37,
   "id": "7579806e",
   "metadata": {},
   "outputs": [
    {
     "data": {
      "text/plain": [
       "['DESCR', 'data', 'data_module', 'feature_names', 'filename', 'target']"
      ]
     },
     "execution_count": 37,
     "metadata": {},
     "output_type": "execute_result"
    }
   ],
   "source": [
    "dir(boston)"
   ]
  },
  {
   "cell_type": "code",
   "execution_count": 38,
   "id": "10407ac6",
   "metadata": {},
   "outputs": [
    {
     "name": "stdout",
     "output_type": "stream",
     "text": [
      ".. _boston_dataset:\n",
      "\n",
      "Boston house prices dataset\n",
      "---------------------------\n",
      "\n",
      "**Data Set Characteristics:**  \n",
      "\n",
      "    :Number of Instances: 506 \n",
      "\n",
      "    :Number of Attributes: 13 numeric/categorical predictive. Median Value (attribute 14) is usually the target.\n",
      "\n",
      "    :Attribute Information (in order):\n",
      "        - CRIM     per capita crime rate by town\n",
      "        - ZN       proportion of residential land zoned for lots over 25,000 sq.ft.\n",
      "        - INDUS    proportion of non-retail business acres per town\n",
      "        - CHAS     Charles River dummy variable (= 1 if tract bounds river; 0 otherwise)\n",
      "        - NOX      nitric oxides concentration (parts per 10 million)\n",
      "        - RM       average number of rooms per dwelling\n",
      "        - AGE      proportion of owner-occupied units built prior to 1940\n",
      "        - DIS      weighted distances to five Boston employment centres\n",
      "        - RAD      index of accessibility to radial highways\n",
      "        - TAX      full-value property-tax rate per $10,000\n",
      "        - PTRATIO  pupil-teacher ratio by town\n",
      "        - B        1000(Bk - 0.63)^2 where Bk is the proportion of black people by town\n",
      "        - LSTAT    % lower status of the population\n",
      "        - MEDV     Median value of owner-occupied homes in $1000's\n",
      "\n",
      "    :Missing Attribute Values: None\n",
      "\n",
      "    :Creator: Harrison, D. and Rubinfeld, D.L.\n",
      "\n",
      "This is a copy of UCI ML housing dataset.\n",
      "https://archive.ics.uci.edu/ml/machine-learning-databases/housing/\n",
      "\n",
      "\n",
      "This dataset was taken from the StatLib library which is maintained at Carnegie Mellon University.\n",
      "\n",
      "The Boston house-price data of Harrison, D. and Rubinfeld, D.L. 'Hedonic\n",
      "prices and the demand for clean air', J. Environ. Economics & Management,\n",
      "vol.5, 81-102, 1978.   Used in Belsley, Kuh & Welsch, 'Regression diagnostics\n",
      "...', Wiley, 1980.   N.B. Various transformations are used in the table on\n",
      "pages 244-261 of the latter.\n",
      "\n",
      "The Boston house-price data has been used in many machine learning papers that address regression\n",
      "problems.   \n",
      "     \n",
      ".. topic:: References\n",
      "\n",
      "   - Belsley, Kuh & Welsch, 'Regression diagnostics: Identifying Influential Data and Sources of Collinearity', Wiley, 1980. 244-261.\n",
      "   - Quinlan,R. (1993). Combining Instance-Based and Model-Based Learning. In Proceedings on the Tenth International Conference of Machine Learning, 236-243, University of Massachusetts, Amherst. Morgan Kaufmann.\n",
      "\n"
     ]
    }
   ],
   "source": [
    "print(boston.DESCR)"
   ]
  },
  {
   "cell_type": "code",
   "execution_count": 39,
   "id": "0e3266bd",
   "metadata": {},
   "outputs": [],
   "source": [
    "from sklearn.linear_model import Ridge"
   ]
  },
  {
   "cell_type": "code",
   "execution_count": 67,
   "id": "e242e9fd",
   "metadata": {},
   "outputs": [],
   "source": [
    "r=Ridge(fit_intercept=False)"
   ]
  },
  {
   "cell_type": "code",
   "execution_count": 68,
   "id": "f9e6b829",
   "metadata": {},
   "outputs": [
    {
     "data": {
      "text/plain": [
       "Ridge(fit_intercept=False)"
      ]
     },
     "execution_count": 68,
     "metadata": {},
     "output_type": "execute_result"
    }
   ],
   "source": [
    "r.fit(x,y)"
   ]
  },
  {
   "cell_type": "code",
   "execution_count": 69,
   "id": "d1049f0b",
   "metadata": {},
   "outputs": [
    {
     "data": {
      "text/plain": [
       "0.0"
      ]
     },
     "execution_count": 69,
     "metadata": {},
     "output_type": "execute_result"
    }
   ],
   "source": [
    "r.intercept_"
   ]
  },
  {
   "cell_type": "code",
   "execution_count": 70,
   "id": "bc695d9a",
   "metadata": {},
   "outputs": [],
   "source": [
    "results=pd.DataFrame(list(zip(boston.feature_names,r.coef_)),columns=['variable','coef'])"
   ]
  },
  {
   "cell_type": "code",
   "execution_count": 71,
   "id": "264b1185",
   "metadata": {},
   "outputs": [
    {
     "data": {
      "text/html": [
       "<div>\n",
       "<style scoped>\n",
       "    .dataframe tbody tr th:only-of-type {\n",
       "        vertical-align: middle;\n",
       "    }\n",
       "\n",
       "    .dataframe tbody tr th {\n",
       "        vertical-align: top;\n",
       "    }\n",
       "\n",
       "    .dataframe thead th {\n",
       "        text-align: right;\n",
       "    }\n",
       "</style>\n",
       "<table border=\"1\" class=\"dataframe\">\n",
       "  <thead>\n",
       "    <tr style=\"text-align: right;\">\n",
       "      <th></th>\n",
       "      <th>variable</th>\n",
       "      <th>coef</th>\n",
       "    </tr>\n",
       "  </thead>\n",
       "  <tbody>\n",
       "    <tr>\n",
       "      <th>0</th>\n",
       "      <td>CRIM</td>\n",
       "      <td>-0.092711</td>\n",
       "    </tr>\n",
       "    <tr>\n",
       "      <th>1</th>\n",
       "      <td>ZN</td>\n",
       "      <td>0.049055</td>\n",
       "    </tr>\n",
       "    <tr>\n",
       "      <th>2</th>\n",
       "      <td>INDUS</td>\n",
       "      <td>-0.008746</td>\n",
       "    </tr>\n",
       "    <tr>\n",
       "      <th>3</th>\n",
       "      <td>CHAS</td>\n",
       "      <td>2.755020</td>\n",
       "    </tr>\n",
       "    <tr>\n",
       "      <th>4</th>\n",
       "      <td>NOX</td>\n",
       "      <td>-1.872889</td>\n",
       "    </tr>\n",
       "    <tr>\n",
       "      <th>5</th>\n",
       "      <td>RM</td>\n",
       "      <td>5.868193</td>\n",
       "    </tr>\n",
       "    <tr>\n",
       "      <th>6</th>\n",
       "      <td>AGE</td>\n",
       "      <td>-0.007879</td>\n",
       "    </tr>\n",
       "    <tr>\n",
       "      <th>7</th>\n",
       "      <td>DIS</td>\n",
       "      <td>-0.959196</td>\n",
       "    </tr>\n",
       "    <tr>\n",
       "      <th>8</th>\n",
       "      <td>RAD</td>\n",
       "      <td>0.171845</td>\n",
       "    </tr>\n",
       "    <tr>\n",
       "      <th>9</th>\n",
       "      <td>TAX</td>\n",
       "      <td>-0.009604</td>\n",
       "    </tr>\n",
       "    <tr>\n",
       "      <th>10</th>\n",
       "      <td>PTRATIO</td>\n",
       "      <td>-0.389557</td>\n",
       "    </tr>\n",
       "    <tr>\n",
       "      <th>11</th>\n",
       "      <td>B</td>\n",
       "      <td>0.014877</td>\n",
       "    </tr>\n",
       "    <tr>\n",
       "      <th>12</th>\n",
       "      <td>LSTAT</td>\n",
       "      <td>-0.422148</td>\n",
       "    </tr>\n",
       "  </tbody>\n",
       "</table>\n",
       "</div>"
      ],
      "text/plain": [
       "   variable      coef\n",
       "0      CRIM -0.092711\n",
       "1        ZN  0.049055\n",
       "2     INDUS -0.008746\n",
       "3      CHAS  2.755020\n",
       "4       NOX -1.872889\n",
       "5        RM  5.868193\n",
       "6       AGE -0.007879\n",
       "7       DIS -0.959196\n",
       "8       RAD  0.171845\n",
       "9       TAX -0.009604\n",
       "10  PTRATIO -0.389557\n",
       "11        B  0.014877\n",
       "12    LSTAT -0.422148"
      ]
     },
     "execution_count": 71,
     "metadata": {},
     "output_type": "execute_result"
    }
   ],
   "source": [
    "results"
   ]
  },
  {
   "cell_type": "code",
   "execution_count": 72,
   "id": "80720aad",
   "metadata": {},
   "outputs": [],
   "source": [
    "from sklearn.linear_model import LinearRegression"
   ]
  },
  {
   "cell_type": "raw",
   "id": "e3384a54",
   "metadata": {},
   "source": []
  },
  {
   "cell_type": "code",
   "execution_count": 73,
   "id": "96a972ba",
   "metadata": {},
   "outputs": [],
   "source": [
    "reg=LinearRegression()"
   ]
  },
  {
   "cell_type": "raw",
   "id": "63c29263",
   "metadata": {},
   "source": []
  },
  {
   "cell_type": "code",
   "execution_count": 74,
   "id": "f5d77e63",
   "metadata": {},
   "outputs": [
    {
     "data": {
      "text/plain": [
       "LinearRegression()"
      ]
     },
     "execution_count": 74,
     "metadata": {},
     "output_type": "execute_result"
    }
   ],
   "source": [
    "reg"
   ]
  },
  {
   "cell_type": "code",
   "execution_count": 75,
   "id": "5f528e62",
   "metadata": {},
   "outputs": [
    {
     "data": {
      "text/plain": [
       "LinearRegression()"
      ]
     },
     "execution_count": 75,
     "metadata": {},
     "output_type": "execute_result"
    }
   ],
   "source": [
    "reg.fit(x,y)"
   ]
  },
  {
   "cell_type": "code",
   "execution_count": 76,
   "id": "3e0f796b",
   "metadata": {},
   "outputs": [
    {
     "data": {
      "text/plain": [
       "array([-1.08011358e-01,  4.64204584e-02,  2.05586264e-02,  2.68673382e+00,\n",
       "       -1.77666112e+01,  3.80986521e+00,  6.92224640e-04, -1.47556685e+00,\n",
       "        3.06049479e-01, -1.23345939e-02, -9.52747232e-01,  9.31168327e-03,\n",
       "       -5.24758378e-01])"
      ]
     },
     "execution_count": 76,
     "metadata": {},
     "output_type": "execute_result"
    }
   ],
   "source": [
    "reg.coef_"
   ]
  },
  {
   "cell_type": "code",
   "execution_count": 77,
   "id": "a42aeea8",
   "metadata": {},
   "outputs": [
    {
     "data": {
      "text/plain": [
       "36.459488385089855"
      ]
     },
     "execution_count": 77,
     "metadata": {},
     "output_type": "execute_result"
    }
   ],
   "source": [
    "reg.intercept_"
   ]
  },
  {
   "cell_type": "code",
   "execution_count": 78,
   "id": "4253c939",
   "metadata": {},
   "outputs": [],
   "source": [
    "plt.plot(r.coef_)\n",
    "plt.plot(reg.coef_ ,c='red')\n",
    "plt.show()"
   ]
  },
  {
   "cell_type": "code",
   "execution_count": 79,
   "id": "d1b75718",
   "metadata": {},
   "outputs": [
    {
     "name": "stdout",
     "output_type": "stream",
     "text": [
      "-1.872889070341414 -17.766611228299986\n"
     ]
    }
   ],
   "source": [
    "print(np.min(r.coef_),np.min(reg.coef_))"
   ]
  },
  {
   "cell_type": "code",
   "execution_count": 80,
   "id": "f7737193",
   "metadata": {},
   "outputs": [],
   "source": [
    "alphaSpace=np.logspace(-5,5,20)\n",
    "ridge_coefs=[]"
   ]
  },
  {
   "cell_type": "code",
   "execution_count": 84,
   "id": "ba0192a4",
   "metadata": {},
   "outputs": [],
   "source": [
    "for alpha in alphaSpace:\n",
    "    r=Ridge(alpha=alpha,fit_intercept=False)\n",
    "    r.fit(x,y)\n",
    "    ridge_coefs.append(r.coef_)\n",
    "    "
   ]
  },
  {
   "cell_type": "code",
   "execution_count": 85,
   "id": "95b8a976",
   "metadata": {},
   "outputs": [
    {
     "data": {
      "text/plain": [
       "[array([-9.28965139e-02,  4.87149591e-02, -4.06005053e-03,  2.85399773e+00,\n",
       "        -2.86842187e+00,  5.92814697e+00, -7.26934551e-03, -9.68514034e-01,\n",
       "         1.71151137e-01, -9.39621834e-03, -3.92190899e-01,  1.49056096e-02,\n",
       "        -4.16304549e-01]),\n",
       " array([-9.28965064e-02,  4.87149685e-02, -4.06021795e-03,  2.85399515e+00,\n",
       "        -2.86838764e+00,  5.92814506e+00, -7.26937131e-03, -9.68513744e-01,\n",
       "         1.71151157e-01, -9.39622530e-03, -3.92190836e-01,  1.49056080e-02,\n",
       "        -4.16304735e-01]),\n",
       " array([-9.28964813e-02,  4.87149999e-02, -4.06078046e-03,  2.85398649e+00,\n",
       "        -2.86827266e+00,  5.92813865e+00, -7.26945799e-03, -9.68512768e-01,\n",
       "         1.71151226e-01, -9.39624866e-03, -3.92190624e-01,  1.49056028e-02,\n",
       "        -4.16305358e-01]),\n",
       " array([-9.28963970e-02,  4.87151054e-02, -4.06267004e-03,  2.85395739e+00,\n",
       "        -2.86788640e+00,  5.92811712e+00, -7.26974915e-03, -9.68509491e-01,\n",
       "         1.71151456e-01, -9.39632713e-03, -3.92189910e-01,  1.49055853e-02,\n",
       "        -4.16307452e-01]),\n",
       " array([-9.28961141e-02,  4.87154596e-02, -4.06901503e-03,  2.85385965e+00,\n",
       "        -2.86658931e+00,  5.92804480e+00, -7.27072667e-03, -9.68498484e-01,\n",
       "         1.71152229e-01, -9.39659064e-03, -3.92187510e-01,  1.49055265e-02,\n",
       "        -4.16314484e-01]),\n",
       " array([-9.28951656e-02,  4.87166490e-02, -4.09029191e-03,  2.85353142e+00,\n",
       "        -2.86223908e+00,  5.92780217e+00, -7.27400271e-03, -9.68461553e-01,\n",
       "         1.71154824e-01, -9.39747453e-03, -3.92179451e-01,  1.49053296e-02,\n",
       "        -4.16338077e-01]),\n",
       " array([-9.28920042e-02,  4.87206344e-02, -4.16131679e-03,  2.85243045e+00,\n",
       "        -2.84771003e+00,  5.92699097e+00, -7.28491694e-03, -9.68338041e-01,\n",
       "         1.71163511e-01, -9.40042768e-03, -3.92152381e-01,  1.49046752e-02,\n",
       "        -4.16416958e-01]),\n",
       " array([-9.28816617e-02,  4.87339062e-02, -4.39484735e-03,  2.84875148e+00,\n",
       "        -2.79985559e+00,  5.92430968e+00, -7.32056298e-03, -9.67929376e-01,\n",
       "         1.71192348e-01, -9.41016673e-03, -3.92061543e-01,  1.49025560e-02,\n",
       "        -4.16677726e-01]),\n",
       " array([-9.28498468e-02,  4.87772485e-02, -5.12578391e-03,  2.83660551e+00,\n",
       "        -2.64918863e+00,  5.91576610e+00, -7.42954980e-03, -9.66622780e-01,\n",
       "         1.71285543e-01, -9.44095989e-03, -3.91757497e-01,  1.48962696e-02,\n",
       "        -4.17509025e-01]),\n",
       " array([-0.09276948,  0.04891147, -0.00709392,  2.79784374, -2.23501315,\n",
       "         5.89129133, -0.00769779, -0.96283746,  0.17156436, -0.00952683,\n",
       "        -0.39074567,  0.01488271, -0.41989375]),\n",
       " array([-0.09266191,  0.04928982, -0.01066079,  2.68273272, -1.42186062,\n",
       "         5.83560744, -0.0079867 , -0.95392005,  0.17226879, -0.00970376,\n",
       "        -0.38738926,  0.01488418, -0.42533205]),\n",
       " array([-0.09275382,  0.05031298, -0.01324049,  2.37854884, -0.53085912,\n",
       "         5.73259554, -0.00705917, -0.93609379,  0.17364155, -0.00992725,\n",
       "        -0.37600677,  0.01503017, -0.43527757]),\n",
       " array([-9.31568059e-02,  5.32246534e-02, -1.16178396e-02,  1.75333866e+00,\n",
       "        -1.97225846e-02,  5.50057083e+00, -1.89744268e-03, -8.93567616e-01,\n",
       "         1.74865621e-01, -1.00507503e-02, -3.36529192e-01,  1.56316059e-02,\n",
       "        -4.56022093e-01]),\n",
       " array([-0.09282663,  0.06107177, -0.00852059,  0.97678727,  0.14561333,\n",
       "         4.86722799,  0.01318635, -0.7773638 ,  0.17018549, -0.00966261,\n",
       "        -0.2147514 ,  0.01727858, -0.50657932]),\n",
       " array([-0.09033993,  0.07691924, -0.01022917,  0.43424724,  0.14040896,\n",
       "         3.52011965,  0.04407764, -0.52592117,  0.15033055, -0.00805688,\n",
       "         0.04015553,  0.02078201, -0.60365454]),\n",
       " array([-0.08787119,  0.09541617, -0.02160438,  0.16678946,  0.07873427,\n",
       "         1.88109057,  0.08023706, -0.20857375,  0.1148091 , -0.00493923,\n",
       "         0.2978826 ,  0.02617545, -0.69362377]),\n",
       " array([-9.02030291e-02,  1.08242699e-01, -4.61417776e-02,  5.72646765e-02,\n",
       "         3.21290377e-02,  8.00321980e-01,  9.83581645e-02, -1.64918932e-02,\n",
       "         7.00504590e-02, -6.56679517e-04,  3.35836361e-01,  3.32412990e-02,\n",
       "        -6.66617183e-01]),\n",
       " array([-0.09081986,  0.11581649, -0.06083721,  0.01881091,  0.01107757,\n",
       "         0.30671961,  0.08992506,  0.02440623,  0.03134382,  0.00246117,\n",
       "         0.19632323,  0.04150875, -0.48925258]),\n",
       " array([-0.06825941,  0.11340246, -0.04330513,  0.00614244,  0.00346979,\n",
       "         0.10864095,  0.06180574,  0.0157975 ,  0.00934376,  0.00223733,\n",
       "         0.07513331,  0.04845207, -0.25559031]),\n",
       " array([-0.03349704,  0.09109374, -0.02078144,  0.00195362,  0.00107992,\n",
       "         0.03659594,  0.03114708,  0.00814531,  0.00035568,  0.00123417,\n",
       "         0.02519532,  0.05360062, -0.09887567]),\n",
       " array([-9.28965139e-02,  4.87149591e-02, -4.06005053e-03,  2.85399773e+00,\n",
       "        -2.86842187e+00,  5.92814697e+00, -7.26934551e-03, -9.68514034e-01,\n",
       "         1.71151137e-01, -9.39621834e-03, -3.92190899e-01,  1.49056096e-02,\n",
       "        -4.16304549e-01]),\n",
       " array([-9.28965064e-02,  4.87149685e-02, -4.06021795e-03,  2.85399515e+00,\n",
       "        -2.86838764e+00,  5.92814506e+00, -7.26937131e-03, -9.68513744e-01,\n",
       "         1.71151157e-01, -9.39622530e-03, -3.92190836e-01,  1.49056080e-02,\n",
       "        -4.16304735e-01]),\n",
       " array([-9.28964813e-02,  4.87149999e-02, -4.06078046e-03,  2.85398649e+00,\n",
       "        -2.86827266e+00,  5.92813865e+00, -7.26945799e-03, -9.68512768e-01,\n",
       "         1.71151226e-01, -9.39624866e-03, -3.92190624e-01,  1.49056028e-02,\n",
       "        -4.16305358e-01]),\n",
       " array([-9.28963970e-02,  4.87151054e-02, -4.06267004e-03,  2.85395739e+00,\n",
       "        -2.86788640e+00,  5.92811712e+00, -7.26974915e-03, -9.68509491e-01,\n",
       "         1.71151456e-01, -9.39632713e-03, -3.92189910e-01,  1.49055853e-02,\n",
       "        -4.16307452e-01]),\n",
       " array([-9.28961141e-02,  4.87154596e-02, -4.06901503e-03,  2.85385965e+00,\n",
       "        -2.86658931e+00,  5.92804480e+00, -7.27072667e-03, -9.68498484e-01,\n",
       "         1.71152229e-01, -9.39659064e-03, -3.92187510e-01,  1.49055265e-02,\n",
       "        -4.16314484e-01]),\n",
       " array([-9.28951656e-02,  4.87166490e-02, -4.09029191e-03,  2.85353142e+00,\n",
       "        -2.86223908e+00,  5.92780217e+00, -7.27400271e-03, -9.68461553e-01,\n",
       "         1.71154824e-01, -9.39747453e-03, -3.92179451e-01,  1.49053296e-02,\n",
       "        -4.16338077e-01]),\n",
       " array([-9.28920042e-02,  4.87206344e-02, -4.16131679e-03,  2.85243045e+00,\n",
       "        -2.84771003e+00,  5.92699097e+00, -7.28491694e-03, -9.68338041e-01,\n",
       "         1.71163511e-01, -9.40042768e-03, -3.92152381e-01,  1.49046752e-02,\n",
       "        -4.16416958e-01]),\n",
       " array([-9.28816617e-02,  4.87339062e-02, -4.39484735e-03,  2.84875148e+00,\n",
       "        -2.79985559e+00,  5.92430968e+00, -7.32056298e-03, -9.67929376e-01,\n",
       "         1.71192348e-01, -9.41016673e-03, -3.92061543e-01,  1.49025560e-02,\n",
       "        -4.16677726e-01]),\n",
       " array([-9.28498468e-02,  4.87772485e-02, -5.12578391e-03,  2.83660551e+00,\n",
       "        -2.64918863e+00,  5.91576610e+00, -7.42954980e-03, -9.66622780e-01,\n",
       "         1.71285543e-01, -9.44095989e-03, -3.91757497e-01,  1.48962696e-02,\n",
       "        -4.17509025e-01]),\n",
       " array([-0.09276948,  0.04891147, -0.00709392,  2.79784374, -2.23501315,\n",
       "         5.89129133, -0.00769779, -0.96283746,  0.17156436, -0.00952683,\n",
       "        -0.39074567,  0.01488271, -0.41989375]),\n",
       " array([-0.09266191,  0.04928982, -0.01066079,  2.68273272, -1.42186062,\n",
       "         5.83560744, -0.0079867 , -0.95392005,  0.17226879, -0.00970376,\n",
       "        -0.38738926,  0.01488418, -0.42533205]),\n",
       " array([-0.09275382,  0.05031298, -0.01324049,  2.37854884, -0.53085912,\n",
       "         5.73259554, -0.00705917, -0.93609379,  0.17364155, -0.00992725,\n",
       "        -0.37600677,  0.01503017, -0.43527757]),\n",
       " array([-9.31568059e-02,  5.32246534e-02, -1.16178396e-02,  1.75333866e+00,\n",
       "        -1.97225846e-02,  5.50057083e+00, -1.89744268e-03, -8.93567616e-01,\n",
       "         1.74865621e-01, -1.00507503e-02, -3.36529192e-01,  1.56316059e-02,\n",
       "        -4.56022093e-01]),\n",
       " array([-0.09282663,  0.06107177, -0.00852059,  0.97678727,  0.14561333,\n",
       "         4.86722799,  0.01318635, -0.7773638 ,  0.17018549, -0.00966261,\n",
       "        -0.2147514 ,  0.01727858, -0.50657932]),\n",
       " array([-0.09033993,  0.07691924, -0.01022917,  0.43424724,  0.14040896,\n",
       "         3.52011965,  0.04407764, -0.52592117,  0.15033055, -0.00805688,\n",
       "         0.04015553,  0.02078201, -0.60365454]),\n",
       " array([-0.08787119,  0.09541617, -0.02160438,  0.16678946,  0.07873427,\n",
       "         1.88109057,  0.08023706, -0.20857375,  0.1148091 , -0.00493923,\n",
       "         0.2978826 ,  0.02617545, -0.69362377]),\n",
       " array([-9.02030291e-02,  1.08242699e-01, -4.61417776e-02,  5.72646765e-02,\n",
       "         3.21290377e-02,  8.00321980e-01,  9.83581645e-02, -1.64918932e-02,\n",
       "         7.00504590e-02, -6.56679517e-04,  3.35836361e-01,  3.32412990e-02,\n",
       "        -6.66617183e-01]),\n",
       " array([-0.09081986,  0.11581649, -0.06083721,  0.01881091,  0.01107757,\n",
       "         0.30671961,  0.08992506,  0.02440623,  0.03134382,  0.00246117,\n",
       "         0.19632323,  0.04150875, -0.48925258]),\n",
       " array([-0.06825941,  0.11340246, -0.04330513,  0.00614244,  0.00346979,\n",
       "         0.10864095,  0.06180574,  0.0157975 ,  0.00934376,  0.00223733,\n",
       "         0.07513331,  0.04845207, -0.25559031]),\n",
       " array([-0.03349704,  0.09109374, -0.02078144,  0.00195362,  0.00107992,\n",
       "         0.03659594,  0.03114708,  0.00814531,  0.00035568,  0.00123417,\n",
       "         0.02519532,  0.05360062, -0.09887567]),\n",
       " array([-9.28965139e-02,  4.87149591e-02, -4.06005053e-03,  2.85399773e+00,\n",
       "        -2.86842187e+00,  5.92814697e+00, -7.26934551e-03, -9.68514034e-01,\n",
       "         1.71151137e-01, -9.39621834e-03, -3.92190899e-01,  1.49056096e-02,\n",
       "        -4.16304549e-01]),\n",
       " array([-9.28965064e-02,  4.87149685e-02, -4.06021795e-03,  2.85399515e+00,\n",
       "        -2.86838764e+00,  5.92814506e+00, -7.26937131e-03, -9.68513744e-01,\n",
       "         1.71151157e-01, -9.39622530e-03, -3.92190836e-01,  1.49056080e-02,\n",
       "        -4.16304735e-01]),\n",
       " array([-9.28964813e-02,  4.87149999e-02, -4.06078046e-03,  2.85398649e+00,\n",
       "        -2.86827266e+00,  5.92813865e+00, -7.26945799e-03, -9.68512768e-01,\n",
       "         1.71151226e-01, -9.39624866e-03, -3.92190624e-01,  1.49056028e-02,\n",
       "        -4.16305358e-01]),\n",
       " array([-9.28963970e-02,  4.87151054e-02, -4.06267004e-03,  2.85395739e+00,\n",
       "        -2.86788640e+00,  5.92811712e+00, -7.26974915e-03, -9.68509491e-01,\n",
       "         1.71151456e-01, -9.39632713e-03, -3.92189910e-01,  1.49055853e-02,\n",
       "        -4.16307452e-01]),\n",
       " array([-9.28961141e-02,  4.87154596e-02, -4.06901503e-03,  2.85385965e+00,\n",
       "        -2.86658931e+00,  5.92804480e+00, -7.27072667e-03, -9.68498484e-01,\n",
       "         1.71152229e-01, -9.39659064e-03, -3.92187510e-01,  1.49055265e-02,\n",
       "        -4.16314484e-01]),\n",
       " array([-9.28951656e-02,  4.87166490e-02, -4.09029191e-03,  2.85353142e+00,\n",
       "        -2.86223908e+00,  5.92780217e+00, -7.27400271e-03, -9.68461553e-01,\n",
       "         1.71154824e-01, -9.39747453e-03, -3.92179451e-01,  1.49053296e-02,\n",
       "        -4.16338077e-01]),\n",
       " array([-9.28920042e-02,  4.87206344e-02, -4.16131679e-03,  2.85243045e+00,\n",
       "        -2.84771003e+00,  5.92699097e+00, -7.28491694e-03, -9.68338041e-01,\n",
       "         1.71163511e-01, -9.40042768e-03, -3.92152381e-01,  1.49046752e-02,\n",
       "        -4.16416958e-01]),\n",
       " array([-9.28816617e-02,  4.87339062e-02, -4.39484735e-03,  2.84875148e+00,\n",
       "        -2.79985559e+00,  5.92430968e+00, -7.32056298e-03, -9.67929376e-01,\n",
       "         1.71192348e-01, -9.41016673e-03, -3.92061543e-01,  1.49025560e-02,\n",
       "        -4.16677726e-01]),\n",
       " array([-9.28498468e-02,  4.87772485e-02, -5.12578391e-03,  2.83660551e+00,\n",
       "        -2.64918863e+00,  5.91576610e+00, -7.42954980e-03, -9.66622780e-01,\n",
       "         1.71285543e-01, -9.44095989e-03, -3.91757497e-01,  1.48962696e-02,\n",
       "        -4.17509025e-01]),\n",
       " array([-0.09276948,  0.04891147, -0.00709392,  2.79784374, -2.23501315,\n",
       "         5.89129133, -0.00769779, -0.96283746,  0.17156436, -0.00952683,\n",
       "        -0.39074567,  0.01488271, -0.41989375]),\n",
       " array([-0.09266191,  0.04928982, -0.01066079,  2.68273272, -1.42186062,\n",
       "         5.83560744, -0.0079867 , -0.95392005,  0.17226879, -0.00970376,\n",
       "        -0.38738926,  0.01488418, -0.42533205]),\n",
       " array([-0.09275382,  0.05031298, -0.01324049,  2.37854884, -0.53085912,\n",
       "         5.73259554, -0.00705917, -0.93609379,  0.17364155, -0.00992725,\n",
       "        -0.37600677,  0.01503017, -0.43527757]),\n",
       " array([-9.31568059e-02,  5.32246534e-02, -1.16178396e-02,  1.75333866e+00,\n",
       "        -1.97225846e-02,  5.50057083e+00, -1.89744268e-03, -8.93567616e-01,\n",
       "         1.74865621e-01, -1.00507503e-02, -3.36529192e-01,  1.56316059e-02,\n",
       "        -4.56022093e-01]),\n",
       " array([-0.09282663,  0.06107177, -0.00852059,  0.97678727,  0.14561333,\n",
       "         4.86722799,  0.01318635, -0.7773638 ,  0.17018549, -0.00966261,\n",
       "        -0.2147514 ,  0.01727858, -0.50657932]),\n",
       " array([-0.09033993,  0.07691924, -0.01022917,  0.43424724,  0.14040896,\n",
       "         3.52011965,  0.04407764, -0.52592117,  0.15033055, -0.00805688,\n",
       "         0.04015553,  0.02078201, -0.60365454]),\n",
       " array([-0.08787119,  0.09541617, -0.02160438,  0.16678946,  0.07873427,\n",
       "         1.88109057,  0.08023706, -0.20857375,  0.1148091 , -0.00493923,\n",
       "         0.2978826 ,  0.02617545, -0.69362377]),\n",
       " array([-9.02030291e-02,  1.08242699e-01, -4.61417776e-02,  5.72646765e-02,\n",
       "         3.21290377e-02,  8.00321980e-01,  9.83581645e-02, -1.64918932e-02,\n",
       "         7.00504590e-02, -6.56679517e-04,  3.35836361e-01,  3.32412990e-02,\n",
       "        -6.66617183e-01]),\n",
       " array([-0.09081986,  0.11581649, -0.06083721,  0.01881091,  0.01107757,\n",
       "         0.30671961,  0.08992506,  0.02440623,  0.03134382,  0.00246117,\n",
       "         0.19632323,  0.04150875, -0.48925258]),\n",
       " array([-0.06825941,  0.11340246, -0.04330513,  0.00614244,  0.00346979,\n",
       "         0.10864095,  0.06180574,  0.0157975 ,  0.00934376,  0.00223733,\n",
       "         0.07513331,  0.04845207, -0.25559031]),\n",
       " array([-0.03349704,  0.09109374, -0.02078144,  0.00195362,  0.00107992,\n",
       "         0.03659594,  0.03114708,  0.00814531,  0.00035568,  0.00123417,\n",
       "         0.02519532,  0.05360062, -0.09887567])]"
      ]
     },
     "execution_count": 85,
     "metadata": {},
     "output_type": "execute_result"
    }
   ],
   "source": [
    "ridge_coefs"
   ]
  },
  {
   "cell_type": "code",
   "execution_count": 86,
   "id": "97b1b726",
   "metadata": {},
   "outputs": [],
   "source": [
    "from sklearn.linear_model import Ridge\n",
    "from sklearn.model_selection import cross_val_score"
   ]
  },
  {
   "cell_type": "code",
   "execution_count": 87,
   "id": "ef6f2502",
   "metadata": {},
   "outputs": [
    {
     "name": "stderr",
     "output_type": "stream",
     "text": [
      "C:\\Users\\NV_User\\anaconda3\\lib\\site-packages\\sklearn\\utils\\deprecation.py:87: FutureWarning: Function load_boston is deprecated; `load_boston` is deprecated in 1.0 and will be removed in 1.2.\n",
      "\n",
      "    The Boston housing prices dataset has an ethical problem. You can refer to\n",
      "    the documentation of this function for further details.\n",
      "\n",
      "    The scikit-learn maintainers therefore strongly discourage the use of this\n",
      "    dataset unless the purpose of the code is to study and educate about\n",
      "    ethical issues in data science and machine learning.\n",
      "\n",
      "    In this special case, you can fetch the dataset from the original\n",
      "    source::\n",
      "\n",
      "        import pandas as pd\n",
      "        import numpy as np\n",
      "\n",
      "\n",
      "        data_url = \"http://lib.stat.cmu.edu/datasets/boston\"\n",
      "        raw_df = pd.read_csv(data_url, sep=\"\\s+\", skiprows=22, header=None)\n",
      "        data = np.hstack([raw_df.values[::2, :], raw_df.values[1::2, :2]])\n",
      "        target = raw_df.values[1::2, 2]\n",
      "\n",
      "    Alternative datasets include the California housing dataset (i.e.\n",
      "    :func:`~sklearn.datasets.fetch_california_housing`) and the Ames housing\n",
      "    dataset. You can load the datasets as follows::\n",
      "\n",
      "        from sklearn.datasets import fetch_california_housing\n",
      "        housing = fetch_california_housing()\n",
      "\n",
      "    for the California housing dataset and::\n",
      "\n",
      "        from sklearn.datasets import fetch_openml\n",
      "        housing = fetch_openml(name=\"house_prices\", as_frame=True)\n",
      "\n",
      "    for the Ames housing dataset.\n",
      "    \n",
      "  warnings.warn(msg, category=FutureWarning)\n"
     ]
    }
   ],
   "source": [
    "x=load_boston().data\n",
    "y=load_boston().target"
   ]
  },
  {
   "cell_type": "code",
   "execution_count": 88,
   "id": "971a0302",
   "metadata": {},
   "outputs": [],
   "source": [
    "alpha_space=np.logspace(-5,5,50)\n",
    "ridge_score=[]\n",
    "ridge_score_std=[]\n",
    "\n",
    "ridge=Ridge(fit_intercept=False)\n"
   ]
  },
  {
   "cell_type": "code",
   "execution_count": 89,
   "id": "ddbf5c79",
   "metadata": {},
   "outputs": [],
   "source": [
    "for alpha in alpha_space:\n",
    "    ridge.alpha=alpha\n",
    "    \n",
    "    ridge_cv_score=cross_val_score(ridge,x,y,cv=10)\n",
    "    \n",
    "    ridge_score.append(np.mean(ridge_cv_score))\n",
    "    ridge_score_std.append(np.std(ridge_cv_score))"
   ]
  },
  {
   "cell_type": "code",
   "execution_count": null,
   "id": "d228410e",
   "metadata": {},
   "outputs": [],
   "source": [
    "\n"
   ]
  },
  {
   "cell_type": "code",
   "execution_count": 92,
   "id": "6c77d8bf",
   "metadata": {},
   "outputs": [],
   "source": [
    "# from sklearn.metrics import mean_squared_error, make_scorer"
   ]
  },
  {
   "cell_type": "code",
   "execution_count": 93,
   "id": "ff076d1b",
   "metadata": {},
   "outputs": [],
   "source": [
    "# mse=make_scorer(mean_squared_error)\n"
   ]
  },
  {
   "cell_type": "code",
   "execution_count": 95,
   "id": "824bfc9d",
   "metadata": {},
   "outputs": [],
   "source": [
    "from sklearn.model_selection import GridSearchCV"
   ]
  },
  {
   "cell_type": "code",
   "execution_count": 96,
   "id": "43cded86",
   "metadata": {},
   "outputs": [],
   "source": [
    "?GridSearchCV"
   ]
  },
  {
   "cell_type": "code",
   "execution_count": 97,
   "id": "85558b8f",
   "metadata": {},
   "outputs": [],
   "source": [
    "alpha_Space=np.logspace(-5,5,25)\n",
    "param_grid={'alpha':alpha_Space}"
   ]
  },
  {
   "cell_type": "code",
   "execution_count": 98,
   "id": "5e393bda",
   "metadata": {},
   "outputs": [],
   "source": [
    "Gred_cv=GridSearchCV(ridge,param_grid=param_grid,cv=5)"
   ]
  },
  {
   "cell_type": "code",
   "execution_count": 99,
   "id": "14df3a0f",
   "metadata": {},
   "outputs": [
    {
     "data": {
      "text/plain": [
       "GridSearchCV(cv=5, estimator=Ridge(alpha=100000.0, fit_intercept=False),\n",
       "             param_grid={'alpha': array([1.00000000e-05, 2.61015722e-05, 6.81292069e-05, 1.77827941e-04,\n",
       "       4.64158883e-04, 1.21152766e-03, 3.16227766e-03, 8.25404185e-03,\n",
       "       2.15443469e-02, 5.62341325e-02, 1.46779927e-01, 3.83118685e-01,\n",
       "       1.00000000e+00, 2.61015722e+00, 6.81292069e+00, 1.77827941e+01,\n",
       "       4.64158883e+01, 1.21152766e+02, 3.16227766e+02, 8.25404185e+02,\n",
       "       2.15443469e+03, 5.62341325e+03, 1.46779927e+04, 3.83118685e+04,\n",
       "       1.00000000e+05])})"
      ]
     },
     "execution_count": 99,
     "metadata": {},
     "output_type": "execute_result"
    }
   ],
   "source": [
    "Gred_cv.fit(x,y)"
   ]
  },
  {
   "cell_type": "code",
   "execution_count": 100,
   "id": "890d2c69",
   "metadata": {},
   "outputs": [
    {
     "data": {
      "text/plain": [
       "{'alpha': 17.78279410038923}"
      ]
     },
     "execution_count": 100,
     "metadata": {},
     "output_type": "execute_result"
    }
   ],
   "source": [
    "Gred_cv.best_params_"
   ]
  },
  {
   "cell_type": "code",
   "execution_count": 101,
   "id": "114e0616",
   "metadata": {},
   "outputs": [
    {
     "data": {
      "text/plain": [
       "0.43752718982971484"
      ]
     },
     "execution_count": 101,
     "metadata": {},
     "output_type": "execute_result"
    }
   ],
   "source": [
    "Gred_cv.best_score_"
   ]
  },
  {
   "cell_type": "code",
   "execution_count": null,
   "id": "f6ff3bce",
   "metadata": {},
   "outputs": [],
   "source": []
  }
 ],
 "metadata": {
  "kernelspec": {
   "display_name": "Python 3 (ipykernel)",
   "language": "python",
   "name": "python3"
  },
  "language_info": {
   "codemirror_mode": {
    "name": "ipython",
    "version": 3
   },
   "file_extension": ".py",
   "mimetype": "text/x-python",
   "name": "python",
   "nbconvert_exporter": "python",
   "pygments_lexer": "ipython3",
   "version": "3.9.12"
  }
 },
 "nbformat": 4,
 "nbformat_minor": 5
}
