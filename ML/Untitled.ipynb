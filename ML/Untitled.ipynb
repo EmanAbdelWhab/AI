{
 "cells": [
  {
   "cell_type": "code",
   "execution_count": 1,
   "id": "00e714da",
   "metadata": {},
   "outputs": [],
   "source": [
    "import pandas as pd\n",
    "import numpy as np\n",
    "import matplotlip as plt\n",
    "import seaborn as sns \n",
    "%matplotlib inline\n"
   ]
  },
  {
   "cell_type": "code",
   "execution_count": 2,
   "id": "bef9da0b",
   "metadata": {},
   "outputs": [
    {
     "name": "stdout",
     "output_type": "stream",
     "text": [
      "Collecting easyocr\n",
      "  Downloading easyocr-1.4.1-py3-none-any.whl (63.6 MB)\n",
      "     -------------------------------------- 63.6/63.6 MB 943.7 kB/s eta 0:00:00\n",
      "Collecting PyYAML\n",
      "  Downloading PyYAML-6.0-cp310-cp310-win_amd64.whl (151 kB)\n",
      "     -------------------------------------- 151.7/151.7 KB 1.0 MB/s eta 0:00:00\n",
      "Collecting scikit-image\n",
      "  Downloading scikit_image-0.19.2-cp310-cp310-win_amd64.whl (12.6 MB)\n",
      "     ---------------------------------------- 12.6/12.6 MB 1.0 MB/s eta 0:00:00\n",
      "Collecting python-bidi\n",
      "  Downloading python_bidi-0.4.2-py2.py3-none-any.whl (30 kB)\n",
      "Collecting torch\n",
      "  Downloading torch-1.11.0-cp310-cp310-win_amd64.whl (158.0 MB)\n",
      "     -----------------------------        130.5/158.0 MB 680.5 kB/s eta 0:00:41\n"
     ]
    },
    {
     "name": "stderr",
     "output_type": "stream",
     "text": [
      "ERROR: THESE PACKAGES DO NOT MATCH THE HASHES FROM THE REQUIREMENTS FILE. If you have updated the package versions, please update the hashes. Otherwise, examine the package contents carefully; someone may have tampered with them.\n",
      "    torch from https://files.pythonhosted.org/packages/ea/50/f249331269934c911a47846ccd9315f7a63941300b832d887956f60c249b/torch-1.11.0-cp310-cp310-win_amd64.whl#sha256=951640fb8db308a59d9b510e7d1ad910aff92913323bbe4bc75435347ddd346d (from easyocr):\n",
      "        Expected sha256 951640fb8db308a59d9b510e7d1ad910aff92913323bbe4bc75435347ddd346d\n",
      "             Got        1037e160cca70f8ff1b1eef94b92aed8b1544428b47bd6cae81d2bf9fded27d7\n",
      "\n"
     ]
    }
   ],
   "source": [
    "!pip install easyocr"
   ]
  },
  {
   "cell_type": "code",
   "execution_count": null,
   "id": "de9287d0",
   "metadata": {},
   "outputs": [],
   "source": [
    "import easyocr"
   ]
  }
 ],
 "metadata": {
  "kernelspec": {
   "display_name": "Python 3 (ipykernel)",
   "language": "python",
   "name": "python3"
  },
  "language_info": {
   "codemirror_mode": {
    "name": "ipython",
    "version": 3
   },
   "file_extension": ".py",
   "mimetype": "text/x-python",
   "name": "python",
   "nbconvert_exporter": "python",
   "pygments_lexer": "ipython3",
   "version": "3.10.4"
  }
 },
 "nbformat": 4,
 "nbformat_minor": 5
}
