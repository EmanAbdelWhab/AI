{
 "cells": [
  {
   "cell_type": "code",
   "execution_count": 13,
   "id": "8049e668",
   "metadata": {},
   "outputs": [],
   "source": [
    "\n",
    "def ckeckInt(s):\n",
    "    l=0\n",
    "    for i in s:\n",
    "        if type(i)==int:\n",
    "            l+=1\n",
    "            \n",
    "    if l==0:\n",
    "        print('the string is not integer')\n",
    "        "
   ]
  },
  {
   "cell_type": "code",
   "execution_count": 14,
   "id": "01890eab",
   "metadata": {},
   "outputs": [
    {
     "name": "stdout",
     "output_type": "stream",
     "text": [
      "the string is not integer\n"
     ]
    }
   ],
   "source": [
    "ckeckInt('computer vision')"
   ]
  },
  {
   "cell_type": "code",
   "execution_count": null,
   "id": "159e0cd4",
   "metadata": {},
   "outputs": [],
   "source": []
  }
 ],
 "metadata": {
  "kernelspec": {
   "display_name": "Python 3 (ipykernel)",
   "language": "python",
   "name": "python3"
  },
  "language_info": {
   "codemirror_mode": {
    "name": "ipython",
    "version": 3
   },
   "file_extension": ".py",
   "mimetype": "text/x-python",
   "name": "python",
   "nbconvert_exporter": "python",
   "pygments_lexer": "ipython3",
   "version": "3.9.12"
  }
 },
 "nbformat": 4,
 "nbformat_minor": 5
}
