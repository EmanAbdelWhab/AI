{
 "cells": [
  {
   "cell_type": "code",
   "execution_count": 6,
   "id": "c3523c39",
   "metadata": {},
   "outputs": [],
   "source": [
    "def multi(x,y):\n",
    "    z=0\n",
    "    for i in range(y):\n",
    "        \n",
    "        z+=x\n",
    "    return z"
   ]
  },
  {
   "cell_type": "markdown",
   "id": "47a00c5c",
   "metadata": {},
   "source": []
  },
  {
   "cell_type": "code",
   "execution_count": 7,
   "id": "fae8eea6",
   "metadata": {},
   "outputs": [
    {
     "name": "stdout",
     "output_type": "stream",
     "text": [
      "10\n"
     ]
    }
   ],
   "source": [
    "print(multi(2,5))"
   ]
  },
  {
   "cell_type": "code",
   "execution_count": null,
   "id": "aaea8c45",
   "metadata": {},
   "outputs": [],
   "source": []
  }
 ],
 "metadata": {
  "kernelspec": {
   "display_name": "Python 3 (ipykernel)",
   "language": "python",
   "name": "python3"
  },
  "language_info": {
   "codemirror_mode": {
    "name": "ipython",
    "version": 3
   },
   "file_extension": ".py",
   "mimetype": "text/x-python",
   "name": "python",
   "nbconvert_exporter": "python",
   "pygments_lexer": "ipython3",
   "version": "3.9.12"
  }
 },
 "nbformat": 4,
 "nbformat_minor": 5
}
