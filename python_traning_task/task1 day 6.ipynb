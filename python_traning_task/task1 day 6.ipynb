{
 "cells": [
  {
   "cell_type": "code",
   "execution_count": null,
   "id": "c083151b",
   "metadata": {},
   "outputs": [],
   "source": []
  },
  {
   "cell_type": "code",
   "execution_count": null,
   "id": "3969fe9e",
   "metadata": {},
   "outputs": [],
   "source": []
  },
  {
   "cell_type": "code",
   "execution_count": 9,
   "id": "15262b29",
   "metadata": {},
   "outputs": [],
   "source": [
    "class num:\n",
    "    def pair(self, nums, target):\n",
    "        lst= {}\n",
    "        for i, num in enumerate(nums):\n",
    "                if target - num in lst:\n",
    "                       return (lst[target - num], i )\n",
    "                lst[num] = i"
   ]
  },
  {
   "cell_type": "code",
   "execution_count": 10,
   "id": "631eb25c",
   "metadata": {},
   "outputs": [
    {
     "name": "stdout",
     "output_type": "stream",
     "text": [
      "(2, 3)\n"
     ]
    }
   ],
   "source": [
    "lst=[10,20,10,40,50,60,70]\n",
    "print(num().pair(lst,50))"
   ]
  },
  {
   "cell_type": "code",
   "execution_count": null,
   "id": "db88f2d8",
   "metadata": {},
   "outputs": [],
   "source": []
  }
 ],
 "metadata": {
  "kernelspec": {
   "display_name": "Python 3 (ipykernel)",
   "language": "python",
   "name": "python3"
  },
  "language_info": {
   "codemirror_mode": {
    "name": "ipython",
    "version": 3
   },
   "file_extension": ".py",
   "mimetype": "text/x-python",
   "name": "python",
   "nbconvert_exporter": "python",
   "pygments_lexer": "ipython3",
   "version": "3.9.12"
  }
 },
 "nbformat": 4,
 "nbformat_minor": 5
}
