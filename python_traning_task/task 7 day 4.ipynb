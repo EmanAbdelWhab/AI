{
 "cells": [
  {
   "cell_type": "code",
   "execution_count": 5,
   "id": "8d151e18",
   "metadata": {},
   "outputs": [
    {
     "name": "stdout",
     "output_type": "stream",
     "text": [
      "{1, 2, 3, 4, 6, 7.5, 5}\n"
     ]
    }
   ],
   "source": [
    "ip_set = {1, 2, 3, 7.5, 'Ali'}\n",
    "ip_set.add(6)\n",
    "ip_set.add(4)\n",
    "ip_set.add(5)\n",
    "ip_set.remove('Ali')\n",
    "print(ip_set)"
   ]
  },
  {
   "cell_type": "code",
   "execution_count": null,
   "id": "99223422",
   "metadata": {},
   "outputs": [],
   "source": []
  }
 ],
 "metadata": {
  "kernelspec": {
   "display_name": "Python 3 (ipykernel)",
   "language": "python",
   "name": "python3"
  },
  "language_info": {
   "codemirror_mode": {
    "name": "ipython",
    "version": 3
   },
   "file_extension": ".py",
   "mimetype": "text/x-python",
   "name": "python",
   "nbconvert_exporter": "python",
   "pygments_lexer": "ipython3",
   "version": "3.9.12"
  }
 },
 "nbformat": 4,
 "nbformat_minor": 5
}
