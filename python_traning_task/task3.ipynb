{
 "cells": [
  {
   "cell_type": "code",
   "execution_count": 1,
   "id": "93a50fec",
   "metadata": {},
   "outputs": [
    {
     "name": "stdout",
     "output_type": "stream",
     "text": [
      "enter number from 1 to 7:5\n",
      "Thursday\n"
     ]
    }
   ],
   "source": [
    "number=int(input('enter number from 1 to 7:'))\n",
    "if number ==1 :\n",
    "    print(\"Sunday\")\n",
    "elif number ==2 :\n",
    "    print('Monday')\n",
    "elif number ==3 :\n",
    "    print('Tuesday')\n",
    "elif number ==4 :\n",
    "    print('Wednesday')\n",
    "elif number ==5 :\n",
    "    print('Thursday')\n",
    "elif number ==6 :\n",
    "    print('Friday')\n",
    "else :\n",
    "    print('Saturday')\n",
    "          \n",
    "    "
   ]
  },
  {
   "cell_type": "code",
   "execution_count": null,
   "id": "e8949336",
   "metadata": {},
   "outputs": [],
   "source": []
  }
 ],
 "metadata": {
  "kernelspec": {
   "display_name": "Python 3 (ipykernel)",
   "language": "python",
   "name": "python3"
  },
  "language_info": {
   "codemirror_mode": {
    "name": "ipython",
    "version": 3
   },
   "file_extension": ".py",
   "mimetype": "text/x-python",
   "name": "python",
   "nbconvert_exporter": "python",
   "pygments_lexer": "ipython3",
   "version": "3.9.12"
  }
 },
 "nbformat": 4,
 "nbformat_minor": 5
}
