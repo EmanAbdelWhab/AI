{
 "cells": [
  {
   "cell_type": "code",
   "execution_count": 1,
   "id": "35aecb58",
   "metadata": {},
   "outputs": [],
   "source": [
    "def swap_case(s):\n",
    "    swap=s.swapcase()\n",
    "    return swap"
   ]
  },
  {
   "cell_type": "code",
   "execution_count": 2,
   "id": "8ac1afd3",
   "metadata": {},
   "outputs": [
    {
     "data": {
      "text/plain": [
       "'hI,hELLO'"
      ]
     },
     "execution_count": 2,
     "metadata": {},
     "output_type": "execute_result"
    }
   ],
   "source": [
    "swap_case(\"Hi,Hello\")"
   ]
  },
  {
   "cell_type": "code",
   "execution_count": null,
   "id": "6931c84f",
   "metadata": {},
   "outputs": [],
   "source": []
  }
 ],
 "metadata": {
  "kernelspec": {
   "display_name": "Python 3 (ipykernel)",
   "language": "python",
   "name": "python3"
  },
  "language_info": {
   "codemirror_mode": {
    "name": "ipython",
    "version": 3
   },
   "file_extension": ".py",
   "mimetype": "text/x-python",
   "name": "python",
   "nbconvert_exporter": "python",
   "pygments_lexer": "ipython3",
   "version": "3.9.12"
  }
 },
 "nbformat": 4,
 "nbformat_minor": 5
}
