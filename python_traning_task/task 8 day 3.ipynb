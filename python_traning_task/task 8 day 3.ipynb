{
 "cells": [
  {
   "cell_type": "code",
   "execution_count": null,
   "id": "a634f020",
   "metadata": {},
   "outputs": [],
   "source": [
    "num=1\n",
    "sum=0\n",
    "i=0\n",
    "while num!=0 :\n",
    "    num=int(input('enter num :'))\n",
    "    i+=1\n",
    "    sum+=num\n",
    "    average=sum/i\n",
    "\n",
    "print(\"sum is\",sum)\n",
    "print(\"average is\",average)\n",
    "\n",
    "    \n"
   ]
  },
  {
   "cell_type": "code",
   "execution_count": null,
   "id": "13217840",
   "metadata": {},
   "outputs": [],
   "source": []
  }
 ],
 "metadata": {
  "kernelspec": {
   "display_name": "Python 3 (ipykernel)",
   "language": "python",
   "name": "python3"
  },
  "language_info": {
   "codemirror_mode": {
    "name": "ipython",
    "version": 3
   },
   "file_extension": ".py",
   "mimetype": "text/x-python",
   "name": "python",
   "nbconvert_exporter": "python",
   "pygments_lexer": "ipython3",
   "version": "3.9.12"
  }
 },
 "nbformat": 4,
 "nbformat_minor": 5
}
