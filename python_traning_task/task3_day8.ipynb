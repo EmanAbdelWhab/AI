{
 "cells": [
  {
   "cell_type": "code",
   "execution_count": 1,
   "metadata": {
    "id": "Yok71800Fj5C"
   },
   "outputs": [],
   "source": [
    "import cv2\n",
    "import numpy as np\n",
    "import matplotlib.pyplot as plt\n",
    "from google.colab.patches import cv2_imshow\n",
    "\n"
   ]
  },
  {
   "cell_type": "code",
   "execution_count": 1,
   "metadata": {
    "id": "Tsf8T7BrHd9n"
   },
   "outputs": [],
   "source": []
  },
  {
   "cell_type": "code",
   "execution_count": null,
   "metadata": {
    "id": "tMVJP6h3GH4f"
   },
   "outputs": [],
   "source": [
    "import cv2\n",
    "cv2.namedWindow(\"controls\")\n"
   ]
  },
  {
   "cell_type": "code",
   "execution_count": null,
   "metadata": {
    "id": "NvCAA-U2GFaX"
   },
   "outputs": [],
   "source": [
    "def fun(x):\n",
    "  img=np.zeros((100,100,3),np.uint8)\n",
    "  plt.imshow(img ,cmap='gray')\n",
    "  np.fill_diagonal(img,x)\n",
    "  \n",
    "\n",
    "cv2.createTrackbar('r','Trackbars',0,255,fun)\n",
    "\n",
    "# img =np.zeros((100,100,3),np.uint8)\n",
    "\n",
    "while(1):\n",
    "  cv2_imshow('image',img)\n",
    "  k=cv2.waitKey(1)\n",
    "  if k ==27:\n",
    "    break\n",
    "\n",
    "cv2.destroyAllWindows"
   ]
  },
  {
   "cell_type": "code",
   "execution_count": null,
   "metadata": {
    "id": "LNoxD4c4LPFK"
   },
   "outputs": [],
   "source": []
  }
 ],
 "metadata": {
  "colab": {
   "name": "task3 day8",
   "provenance": []
  },
  "kernelspec": {
   "display_name": "Python 3 (ipykernel)",
   "language": "python",
   "name": "python3"
  },
  "language_info": {
   "codemirror_mode": {
    "name": "ipython",
    "version": 3
   },
   "file_extension": ".py",
   "mimetype": "text/x-python",
   "name": "python",
   "nbconvert_exporter": "python",
   "pygments_lexer": "ipython3",
   "version": "3.9.12"
  }
 },
 "nbformat": 4,
 "nbformat_minor": 1
}
