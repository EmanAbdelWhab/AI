{
 "cells": [
  {
   "cell_type": "code",
   "execution_count": null,
   "id": "42584560",
   "metadata": {},
   "outputs": [],
   "source": [
    "price=int(input('enter price :'))\n",
    "\n",
    "if price>10000 :\n",
    "    net=price*.8\n",
    "    print(\"The net amount=\", net)\n",
    "elif price>7000 and price <=10000 :\n",
    "    net=price*.85 \n",
    "    print(\"The net amount=\", net)\n",
    "elif price<=7000 :\n",
    "    net=price*.9\n",
    "    print(\"The net amount=\", net)\n"
   ]
  },
  {
   "cell_type": "code",
   "execution_count": null,
   "id": "34d8d4c7",
   "metadata": {},
   "outputs": [],
   "source": []
  },
  {
   "cell_type": "code",
   "execution_count": null,
   "id": "3725df2a",
   "metadata": {},
   "outputs": [],
   "source": []
  }
 ],
 "metadata": {
  "kernelspec": {
   "display_name": "Python 3 (ipykernel)",
   "language": "python",
   "name": "python3"
  },
  "language_info": {
   "codemirror_mode": {
    "name": "ipython",
    "version": 3
   },
   "file_extension": ".py",
   "mimetype": "text/x-python",
   "name": "python",
   "nbconvert_exporter": "python",
   "pygments_lexer": "ipython3",
   "version": "3.9.12"
  }
 },
 "nbformat": 4,
 "nbformat_minor": 5
}
