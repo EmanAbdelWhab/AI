{
 "cells": [
  {
   "cell_type": "code",
   "execution_count": 6,
   "id": "37a1bc49",
   "metadata": {},
   "outputs": [
    {
     "name": "stdout",
     "output_type": "stream",
     "text": [
      "please inter your birth year:2002\n",
      "you are  20 years old\n"
     ]
    }
   ],
   "source": [
    "year=int(input(\"please inter your birth year:\"))\n",
    "age= 2022-year\n",
    "print (\"you are \",age ,\"years old\")"
   ]
  },
  {
   "cell_type": "code",
   "execution_count": null,
   "id": "ce08e51d",
   "metadata": {},
   "outputs": [],
   "source": []
  }
 ],
 "metadata": {
  "kernelspec": {
   "display_name": "Python 3 (ipykernel)",
   "language": "python",
   "name": "python3"
  },
  "language_info": {
   "codemirror_mode": {
    "name": "ipython",
    "version": 3
   },
   "file_extension": ".py",
   "mimetype": "text/x-python",
   "name": "python",
   "nbconvert_exporter": "python",
   "pygments_lexer": "ipython3",
   "version": "3.9.12"
  }
 },
 "nbformat": 4,
 "nbformat_minor": 5
}
