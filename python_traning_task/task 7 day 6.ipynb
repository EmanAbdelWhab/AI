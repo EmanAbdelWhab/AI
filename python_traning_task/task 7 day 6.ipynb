{
 "cells": [
  {
   "cell_type": "code",
   "execution_count": 11,
   "id": "bc9985ce",
   "metadata": {},
   "outputs": [],
   "source": [
    "def check (s):\n",
    "    c=0\n",
    "    l=0\n",
    "    for x in s:\n",
    "        if x.isupper()==True:\n",
    "            c+=1\n",
    "        if x.islower()==True :\n",
    "            l+=1\n",
    "    print('number of upper character :',c)\n",
    "    print('number of lower character :',l)"
   ]
  },
  {
   "cell_type": "code",
   "execution_count": 12,
   "id": "75f61d1c",
   "metadata": {},
   "outputs": [
    {
     "name": "stdout",
     "output_type": "stream",
     "text": [
      "number of upper character : 3\n",
      "number of lower character : 12\n"
     ]
    }
   ],
   "source": [
    "check('The quick Brow Fox')"
   ]
  },
  {
   "cell_type": "code",
   "execution_count": null,
   "id": "3b3801cc",
   "metadata": {},
   "outputs": [],
   "source": []
  }
 ],
 "metadata": {
  "kernelspec": {
   "display_name": "Python 3 (ipykernel)",
   "language": "python",
   "name": "python3"
  },
  "language_info": {
   "codemirror_mode": {
    "name": "ipython",
    "version": 3
   },
   "file_extension": ".py",
   "mimetype": "text/x-python",
   "name": "python",
   "nbconvert_exporter": "python",
   "pygments_lexer": "ipython3",
   "version": "3.9.12"
  }
 },
 "nbformat": 4,
 "nbformat_minor": 5
}
