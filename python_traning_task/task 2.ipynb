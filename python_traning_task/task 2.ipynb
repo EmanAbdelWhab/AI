{
 "cells": [
  {
   "cell_type": "code",
   "execution_count": 9,
   "id": "ac907250",
   "metadata": {},
   "outputs": [
    {
     "name": "stdout",
     "output_type": "stream",
     "text": [
      "please enter any number: 50\n",
      "the sum of number from 1 to 50 = 1275\n",
      "the average of namber from 1 to 50 = 25.5\n"
     ]
    }
   ],
   "source": [
    "number=int(input(\"please enter any number: \"))\n",
    "sum=0\n",
    "for i in range(1,number+1):\n",
    "    \n",
    "    sum=sum+i\n",
    "\n",
    "average=sum/number\n",
    "print(\"the sum of number from 1 to\",number, \"=\",sum)\n",
    "print(\"the average of namber from 1 to\",number, \"=\",average)"
   ]
  },
  {
   "cell_type": "code",
   "execution_count": null,
   "id": "076f1d6e",
   "metadata": {},
   "outputs": [],
   "source": []
  }
 ],
 "metadata": {
  "kernelspec": {
   "display_name": "Python 3 (ipykernel)",
   "language": "python",
   "name": "python3"
  },
  "language_info": {
   "codemirror_mode": {
    "name": "ipython",
    "version": 3
   },
   "file_extension": ".py",
   "mimetype": "text/x-python",
   "name": "python",
   "nbconvert_exporter": "python",
   "pygments_lexer": "ipython3",
   "version": "3.9.12"
  }
 },
 "nbformat": 4,
 "nbformat_minor": 5
}
