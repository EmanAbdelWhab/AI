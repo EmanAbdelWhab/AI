{
 "cells": [
  {
   "cell_type": "code",
   "execution_count": null,
   "metadata": {
    "id": "WgKnmnqETwpI"
   },
   "outputs": [],
   "source": [
    "import cv2\n",
    "import numpy as np\n",
    "import matplotlib.pyplot as plt"
   ]
  },
  {
   "cell_type": "code",
   "execution_count": null,
   "metadata": {
    "id": "UhFWfg5OT5mz"
   },
   "outputs": [],
   "source": [
    "-def nothing(x):\n",
    "    pass\n",
    "\n",
    "cv2.namedWindow('Image')\n",
    "\n",
    "cv2.createTrackbar('x0', 'Image', 0, 500, nothing)\n",
    "cv2.createTrackbar('y0', 'Image', 0, 500, nothing)\n",
    "cv2.createTrackbar('x1', 'Image', 0, 500, nothing)\n",
    "cv2.createTrackbar('y1', 'Image', 0, 500, nothing)\n",
    "cv2.createTrackbar('b', 'Image', 0, 255, nothing)\n",
    "cv2.createTrackbar('g', 'Image', 0, 255, nothing)\n",
    "cv2.createTrackbar('r', 'Image', 0, 255, nothing)\n",
    "cv2.createTrackbar('th', 'Image', 0, 10, nothing)\n",
    "\n",
    "while 1:\n",
    "    img = np.zeros((500, 500, 3), np.uint8)\n",
    "    x0 = cv2.getTrackbarPos('x0', 'Image')\n",
    "    y0 = cv2.getTrackbarPos('y0', 'Image')\n",
    "    x1 = cv2.getTrackbarPos('x1', 'Image')\n",
    "    y1 = cv2.getTrackbarPos('y1', 'Image')\n",
    "    b = cv2.getTrackbarPos('b', 'Image')\n",
    "    g = cv2.getTrackbarPos('g', 'Image')\n",
    "    r = cv2.getTrackbarPos('r', 'Image')\n",
    "    th = cv2.getTrackbarPos('th', 'Image')\n",
    "\n",
    "    cv2.line(img, (x0, y0), (x1, y1), (b,g,r), th+1)\n",
    "    cv2.imshow('Image', img)\n",
    "    k = cv2.waitKey(1)\n",
    "    if k == ord('q'):\n",
    "        break\n",
    "\n",
    "cv2.destroyAllWindows()"
   ]
  }
 ],
 "metadata": {
  "colab": {
   "name": "q2 day 9.ipynb",
   "provenance": []
  },
  "kernelspec": {
   "display_name": "Python 3 (ipykernel)",
   "language": "python",
   "name": "python3"
  },
  "language_info": {
   "codemirror_mode": {
    "name": "ipython",
    "version": 3
   },
   "file_extension": ".py",
   "mimetype": "text/x-python",
   "name": "python",
   "nbconvert_exporter": "python",
   "pygments_lexer": "ipython3",
   "version": "3.9.12"
  }
 },
 "nbformat": 4,
 "nbformat_minor": 1
}
