{
 "cells": [
  {
   "cell_type": "code",
   "execution_count": 2,
   "id": "fc730749",
   "metadata": {},
   "outputs": [
    {
     "name": "stdout",
     "output_type": "stream",
     "text": [
      "sum is 25\n"
     ]
    }
   ],
   "source": [
    "lst=[1,2,5,6,8,3]\n",
    "sum=0\n",
    "for i in lst:\n",
    "    sum+=i\n",
    "    \n",
    "print (\"sum is\",sum)"
   ]
  },
  {
   "cell_type": "code",
   "execution_count": null,
   "id": "58e8145b",
   "metadata": {},
   "outputs": [],
   "source": []
  }
 ],
 "metadata": {
  "kernelspec": {
   "display_name": "Python 3 (ipykernel)",
   "language": "python",
   "name": "python3"
  },
  "language_info": {
   "codemirror_mode": {
    "name": "ipython",
    "version": 3
   },
   "file_extension": ".py",
   "mimetype": "text/x-python",
   "name": "python",
   "nbconvert_exporter": "python",
   "pygments_lexer": "ipython3",
   "version": "3.9.12"
  }
 },
 "nbformat": 4,
 "nbformat_minor": 5
}
