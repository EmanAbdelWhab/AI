{
 "cells": [
  {
   "cell_type": "code",
   "execution_count": 15,
   "id": "b310d757",
   "metadata": {},
   "outputs": [
    {
     "name": "stdout",
     "output_type": "stream",
     "text": [
      "enter your name:Eman\n"
     ]
    }
   ],
   "source": [
    "name=str(input('enter your name:'))"
   ]
  },
  {
   "cell_type": "code",
   "execution_count": 16,
   "id": "30d8df69",
   "metadata": {},
   "outputs": [
    {
     "name": "stdout",
     "output_type": "stream",
     "text": [
      "Eman Eman little star ,\n",
      " \t how i wonder what you are!\n",
      " \t \t Up above the world so high, \n",
      " \t \t Like a diamond in the sky.\n",
      " Eman Eman little star,\n",
      " \t how i wonder what you are\n"
     ]
    }
   ],
   "source": [
    "print(name,name,\"little star ,\\n \\t how i wonder what you are!\\n \\t \\t Up above the world so high, \\n \\t \\t Like a diamond in the sky.\\n\",name, name,\"little star,\\n \\t how i wonder what you are\")"
   ]
  },
  {
   "cell_type": "code",
   "execution_count": null,
   "id": "2c184513",
   "metadata": {},
   "outputs": [],
   "source": []
  }
 ],
 "metadata": {
  "kernelspec": {
   "display_name": "Python 3 (ipykernel)",
   "language": "python",
   "name": "python3"
  },
  "language_info": {
   "codemirror_mode": {
    "name": "ipython",
    "version": 3
   },
   "file_extension": ".py",
   "mimetype": "text/x-python",
   "name": "python",
   "nbconvert_exporter": "python",
   "pygments_lexer": "ipython3",
   "version": "3.9.12"
  }
 },
 "nbformat": 4,
 "nbformat_minor": 5
}
