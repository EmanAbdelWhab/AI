{
 "cells": [
  {
   "cell_type": "code",
   "execution_count": 1,
   "id": "c9501dd4",
   "metadata": {},
   "outputs": [
    {
     "name": "stdout",
     "output_type": "stream",
     "text": [
      "input your first name noor\n",
      "input your last name abdelwhab\n"
     ]
    }
   ],
   "source": [
    "FName=str(input('input your first name '))\n",
    "LName=str(input('input your last name '))"
   ]
  },
  {
   "cell_type": "code",
   "execution_count": 2,
   "id": "1843fe50",
   "metadata": {},
   "outputs": [
    {
     "name": "stdout",
     "output_type": "stream",
     "text": [
      "the Reversed First Name  r o o n\n"
     ]
    }
   ],
   "source": [
    "ReversedFName = \"\" \n",
    "for i in  FName:\n",
    "    ReversedFName = i + ReversedFName\n",
    "\n",
    "ReversedFName=\" \".join(ReversedFName)\n",
    "\n",
    "print(\"the Reversed First Name \",ReversedFName)"
   ]
  },
  {
   "cell_type": "code",
   "execution_count": 3,
   "id": "1eab1ae6",
   "metadata": {},
   "outputs": [
    {
     "name": "stdout",
     "output_type": "stream",
     "text": [
      "the Reversed Last Name  \n"
     ]
    }
   ],
   "source": [
    "ReversedLName = \"\" \n",
    "for e in LName:\n",
    "    ReversedFLName = e + ReversedLName\n",
    "\n",
    "ReversedLName=\" \".join(ReversedLName)\n",
    "print(\"the Reversed Last Name \", ReversedLName)"
   ]
  },
  {
   "cell_type": "code",
   "execution_count": 5,
   "id": "5ba5551e",
   "metadata": {},
   "outputs": [
    {
     "name": "stdout",
     "output_type": "stream",
     "text": [
      "the Reversed First Name  b a h w l e d b a\n"
     ]
    }
   ],
   "source": [
    "ReversedLName = \"\" \n",
    "for i in  LName:\n",
    "    ReversedLName = i + ReversedLName\n",
    "\n",
    "ReversedLName=\" \".join(ReversedLName)\n",
    "\n",
    "print(\"the Reversed First Name \",ReversedLName)"
   ]
  },
  {
   "cell_type": "code",
   "execution_count": null,
   "id": "59bbb7fc",
   "metadata": {},
   "outputs": [],
   "source": []
  },
  {
   "cell_type": "code",
   "execution_count": null,
   "id": "b9fe6b55",
   "metadata": {},
   "outputs": [],
   "source": []
  },
  {
   "cell_type": "code",
   "execution_count": null,
   "id": "9af494c2",
   "metadata": {},
   "outputs": [],
   "source": []
  },
  {
   "cell_type": "code",
   "execution_count": null,
   "id": "fab53f8c",
   "metadata": {},
   "outputs": [],
   "source": [
    "\n"
   ]
  },
  {
   "cell_type": "code",
   "execution_count": null,
   "id": "a7b51627",
   "metadata": {},
   "outputs": [],
   "source": []
  },
  {
   "cell_type": "code",
   "execution_count": null,
   "id": "f76c136f",
   "metadata": {},
   "outputs": [],
   "source": []
  }
 ],
 "metadata": {
  "kernelspec": {
   "display_name": "Python 3 (ipykernel)",
   "language": "python",
   "name": "python3"
  },
  "language_info": {
   "codemirror_mode": {
    "name": "ipython",
    "version": 3
   },
   "file_extension": ".py",
   "mimetype": "text/x-python",
   "name": "python",
   "nbconvert_exporter": "python",
   "pygments_lexer": "ipython3",
   "version": "3.9.12"
  }
 },
 "nbformat": 4,
 "nbformat_minor": 5
}
