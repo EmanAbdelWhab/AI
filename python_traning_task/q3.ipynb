{
 "cells": [
  {
   "cell_type": "code",
   "execution_count": 9,
   "id": "479ac42b",
   "metadata": {},
   "outputs": [],
   "source": [
    "inputs = ['4253625879615786', '4424424424442444', '442444x442444244', '42536258796157867', '442444442442444', '5122-2368-7954 - 3214','5122-2368-7954-3214' , '0525362587961578']"
   ]
  },
  {
   "cell_type": "code",
   "execution_count": 11,
   "id": "89400ac5",
   "metadata": {},
   "outputs": [
    {
     "name": "stdout",
     "output_type": "stream",
     "text": [
      "true\n",
      "true\n",
      "true\n",
      "false\n",
      "false\n",
      "false\n",
      "false\n",
      "false\n"
     ]
    }
   ],
   "source": [
    "\n",
    "def digits(inputs):         \n",
    "        for i in inputs:\n",
    "            for x in i :\n",
    "                if x in ['0','1','2','3','4','5','6','7','8','9','-'] and x not in ['_',' /\"\"'] :\n",
    "                    return True \n",
    "            \n",
    "                else :\n",
    "                \n",
    "                    return False\n",
    "    \n",
    "for i in inputs:\n",
    "    if i[0] in ['4','5','6'] and len(i)==16 and digits(inputs):\n",
    "        print('true')\n",
    "    else :\n",
    "        print('false')\n"
   ]
  },
  {
   "cell_type": "code",
   "execution_count": null,
   "id": "158576c6",
   "metadata": {},
   "outputs": [],
   "source": []
  },
  {
   "cell_type": "code",
   "execution_count": null,
   "id": "1130c4d6",
   "metadata": {},
   "outputs": [],
   "source": []
  },
  {
   "cell_type": "code",
   "execution_count": null,
   "id": "11222161",
   "metadata": {},
   "outputs": [],
   "source": []
  },
  {
   "cell_type": "code",
   "execution_count": null,
   "id": "cc2173e5",
   "metadata": {},
   "outputs": [],
   "source": []
  }
 ],
 "metadata": {
  "kernelspec": {
   "display_name": "Python 3 (ipykernel)",
   "language": "python",
   "name": "python3"
  },
  "language_info": {
   "codemirror_mode": {
    "name": "ipython",
    "version": 3
   },
   "file_extension": ".py",
   "mimetype": "text/x-python",
   "name": "python",
   "nbconvert_exporter": "python",
   "pygments_lexer": "ipython3",
   "version": "3.9.12"
  }
 },
 "nbformat": 4,
 "nbformat_minor": 5
}
