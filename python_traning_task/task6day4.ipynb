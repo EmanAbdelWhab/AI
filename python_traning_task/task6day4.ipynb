{
 "cells": [
  {
   "cell_type": "code",
   "execution_count": 1,
   "id": "673040af",
   "metadata": {},
   "outputs": [
    {
     "data": {
      "text/plain": [
       "'England'"
      ]
     },
     "execution_count": 1,
     "metadata": {},
     "output_type": "execute_result"
    }
   ],
   "source": [
    "ip_dict_ = {'first_name': 'Alan', 'age': 26, 'country': 'England'}\n",
    "ip_dict_ ['age']=42\n",
    "ip_dict_ ['last_name']=\"Turing\"\n",
    "ip_dict_.pop('country')"
   ]
  },
  {
   "cell_type": "code",
   "execution_count": 2,
   "id": "045c2bc1",
   "metadata": {},
   "outputs": [
    {
     "name": "stdout",
     "output_type": "stream",
     "text": [
      "{'first_name': 'Alan', 'age': 42, 'last_name': 'Turing'}\n"
     ]
    }
   ],
   "source": [
    "print(ip_dict_)"
   ]
  },
  {
   "cell_type": "code",
   "execution_count": null,
   "id": "e86d63aa",
   "metadata": {},
   "outputs": [],
   "source": []
  }
 ],
 "metadata": {
  "kernelspec": {
   "display_name": "Python 3 (ipykernel)",
   "language": "python",
   "name": "python3"
  },
  "language_info": {
   "codemirror_mode": {
    "name": "ipython",
    "version": 3
   },
   "file_extension": ".py",
   "mimetype": "text/x-python",
   "name": "python",
   "nbconvert_exporter": "python",
   "pygments_lexer": "ipython3",
   "version": "3.9.12"
  }
 },
 "nbformat": 4,
 "nbformat_minor": 5
}
