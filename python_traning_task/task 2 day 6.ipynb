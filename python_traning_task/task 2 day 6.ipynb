{
 "cells": [
  {
   "cell_type": "code",
   "execution_count": 3,
   "id": "654c9e0a",
   "metadata": {},
   "outputs": [],
   "source": [
    "def check (s):\n",
    "    if not any(x.isupper() for x in s):\n",
    "            print(s,\"is not valid\")\n",
    "    if not any(x.islower() for x in s):\n",
    "         print(s,\"is not valid\")\n",
    "    if not any(x.isdigit() for x in s):\n",
    "        print(s,\"is not valid\")\n",
    "    if len(s)<8 :\n",
    "        print(s,\"is not valid\")\n",
    "    else :\n",
    "        print('valid string')"
   ]
  },
  {
   "cell_type": "code",
   "execution_count": 4,
   "id": "cb6818c4",
   "metadata": {},
   "outputs": [
    {
     "name": "stdout",
     "output_type": "stream",
     "text": [
      "valid string\n"
     ]
    }
   ],
   "source": [
    "check('Myageis18yearsold')"
   ]
  },
  {
   "cell_type": "code",
   "execution_count": null,
   "id": "3850d0f0",
   "metadata": {},
   "outputs": [],
   "source": []
  }
 ],
 "metadata": {
  "kernelspec": {
   "display_name": "Python 3 (ipykernel)",
   "language": "python",
   "name": "python3"
  },
  "language_info": {
   "codemirror_mode": {
    "name": "ipython",
    "version": 3
   },
   "file_extension": ".py",
   "mimetype": "text/x-python",
   "name": "python",
   "nbconvert_exporter": "python",
   "pygments_lexer": "ipython3",
   "version": "3.9.12"
  }
 },
 "nbformat": 4,
 "nbformat_minor": 5
}
