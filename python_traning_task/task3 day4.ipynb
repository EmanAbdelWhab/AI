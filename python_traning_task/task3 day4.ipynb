{
 "cells": [
  {
   "cell_type": "code",
   "execution_count": 3,
   "id": "513603a9",
   "metadata": {},
   "outputs": [
    {
     "name": "stdout",
     "output_type": "stream",
     "text": [
      "write first number8\n",
      "write last number0\n",
      "Error!! Division by zero\n"
     ]
    }
   ],
   "source": [
    "a=int(input(\"write first number\"))\n",
    "b=int(input(\"write last number\"))\n",
    "\n",
    "if b !=0:\n",
    "    print(a/b)\n",
    "else :\n",
    "    print(\"Error!! Division by zero\")"
   ]
  },
  {
   "cell_type": "code",
   "execution_count": null,
   "id": "91d5ef40",
   "metadata": {},
   "outputs": [],
   "source": []
  }
 ],
 "metadata": {
  "kernelspec": {
   "display_name": "Python 3 (ipykernel)",
   "language": "python",
   "name": "python3"
  },
  "language_info": {
   "codemirror_mode": {
    "name": "ipython",
    "version": 3
   },
   "file_extension": ".py",
   "mimetype": "text/x-python",
   "name": "python",
   "nbconvert_exporter": "python",
   "pygments_lexer": "ipython3",
   "version": "3.9.12"
  }
 },
 "nbformat": 4,
 "nbformat_minor": 5
}
