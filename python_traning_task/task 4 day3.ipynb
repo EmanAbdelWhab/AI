{
 "cells": [
  {
   "cell_type": "code",
   "execution_count": null,
   "id": "4f4c7ab9",
   "metadata": {},
   "outputs": [
    {
     "name": "stdout",
     "output_type": "stream",
     "text": [
      "enter letter :t\n",
      "t is not a vowel\n",
      "enter letter :g\n",
      "g is not a vowel\n",
      "enter letter :a\n",
      "a is a vowel\n"
     ]
    }
   ],
   "source": [
    "while True:    \n",
    "    letter=input('enter letter :')\n",
    "\n",
    "    vowel=['a','o','i','e','u']\n",
    "    if letter in vowel  :\n",
    "        print (letter ,\"is a vowel\")\n",
    "    else:\n",
    "        print(letter ,\"is not a vowel\")\n"
   ]
  },
  {
   "cell_type": "code",
   "execution_count": null,
   "id": "7303ff65",
   "metadata": {},
   "outputs": [],
   "source": []
  }
 ],
 "metadata": {
  "kernelspec": {
   "display_name": "Python 3 (ipykernel)",
   "language": "python",
   "name": "python3"
  },
  "language_info": {
   "codemirror_mode": {
    "name": "ipython",
    "version": 3
   },
   "file_extension": ".py",
   "mimetype": "text/x-python",
   "name": "python",
   "nbconvert_exporter": "python",
   "pygments_lexer": "ipython3",
   "version": "3.9.12"
  }
 },
 "nbformat": 4,
 "nbformat_minor": 5
}
