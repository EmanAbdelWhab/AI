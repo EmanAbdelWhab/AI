{
 "cells": [
  {
   "cell_type": "code",
   "execution_count": null,
   "id": "4535335a",
   "metadata": {},
   "outputs": [],
   "source": []
  },
  {
   "cell_type": "code",
   "execution_count": 4,
   "id": "38fd03f9",
   "metadata": {},
   "outputs": [
    {
     "name": "stdout",
     "output_type": "stream",
     "text": [
      "enter first nameeman\n",
      "enter last nameabdelwhab\n",
      "Hello  eman abdelwhab ! You just delved into python.\n"
     ]
    }
   ],
   "source": [
    "firstname=str(input('enter first name'))\n",
    "lastname=str(input('enter last name'))\n",
    "\n",
    "\n",
    "print(\"Hello \",firstname,lastname ,\"! You just delved into python.\")"
   ]
  },
  {
   "cell_type": "code",
   "execution_count": 5,
   "id": "8a99f225",
   "metadata": {},
   "outputs": [],
   "source": [
    "def print_full_name(first, last):\n",
    "    \n",
    "   print(\"Hello \",first,last,\"! You just delved into python' where \",firstname,\"and\",lastname,\" are replaced with\",first,\"and \",last) \n",
    "\n",
    "\n"
   ]
  },
  {
   "cell_type": "code",
   "execution_count": 7,
   "id": "f54f3260",
   "metadata": {},
   "outputs": [
    {
     "name": "stdout",
     "output_type": "stream",
     "text": [
      "Hello  noor abdelwhab ! You just delved into python' where  eman and abdelwhab  are replaced with noor and  abdelwhab\n"
     ]
    }
   ],
   "source": [
    "print_full_name('noor','abdelwhab')"
   ]
  },
  {
   "cell_type": "code",
   "execution_count": null,
   "id": "7acf38cd",
   "metadata": {},
   "outputs": [],
   "source": []
  }
 ],
 "metadata": {
  "kernelspec": {
   "display_name": "Python 3 (ipykernel)",
   "language": "python",
   "name": "python3"
  },
  "language_info": {
   "codemirror_mode": {
    "name": "ipython",
    "version": 3
   },
   "file_extension": ".py",
   "mimetype": "text/x-python",
   "name": "python",
   "nbconvert_exporter": "python",
   "pygments_lexer": "ipython3",
   "version": "3.9.12"
  }
 },
 "nbformat": 4,
 "nbformat_minor": 5
}
