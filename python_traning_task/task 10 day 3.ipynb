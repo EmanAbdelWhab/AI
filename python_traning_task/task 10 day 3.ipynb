{
 "cells": [
  {
   "cell_type": "code",
   "execution_count": 5,
   "id": "bdd796b7",
   "metadata": {},
   "outputs": [],
   "source": [
    "def MaxMin (lst):\n",
    "    maximumItem=max(lst)\n",
    "    minimumItem=min(lst)\n",
    "    return maximumItem,minimumItem"
   ]
  },
  {
   "cell_type": "code",
   "execution_count": 8,
   "id": "8016a4b2",
   "metadata": {},
   "outputs": [
    {
     "name": "stdout",
     "output_type": "stream",
     "text": [
      "Max and Min  (300, 10)\n"
     ]
    }
   ],
   "source": [
    "lst=[100,30,22,40,60,20,10,300]\n",
    "print(\"Max and Min \",MaxMin(lst))"
   ]
  },
  {
   "cell_type": "code",
   "execution_count": null,
   "id": "9219ac0f",
   "metadata": {},
   "outputs": [],
   "source": []
  }
 ],
 "metadata": {
  "kernelspec": {
   "display_name": "Python 3 (ipykernel)",
   "language": "python",
   "name": "python3"
  },
  "language_info": {
   "codemirror_mode": {
    "name": "ipython",
    "version": 3
   },
   "file_extension": ".py",
   "mimetype": "text/x-python",
   "name": "python",
   "nbconvert_exporter": "python",
   "pygments_lexer": "ipython3",
   "version": "3.9.12"
  }
 },
 "nbformat": 4,
 "nbformat_minor": 5
}
