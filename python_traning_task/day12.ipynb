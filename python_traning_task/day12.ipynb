{
 "cells": [
  {
   "cell_type": "code",
   "execution_count": null,
   "id": "a122bb8b",
   "metadata": {},
   "outputs": [],
   "source": [
    "import matplotlib.pyplot as plt\n",
    "import numpy as np\n",
    "import cv2\n",
    "%matplotlib inline\n",
    "%run helpers.py\n",
    "\n",
    "image = cv2.imread('solidWhiteCurve.jpg') \n",
    "image = cv2.cvtColor(image, cv2.COLOR_BGR2RGB)"
   ]
  },
  {
   "cell_type": "code",
   "execution_count": null,
   "id": "a066ed40",
   "metadata": {},
   "outputs": [],
   "source": [
    "gray_img = cv2.cvtColor(image, cv2.COLOR_RGB2GRAY)\n"
   ]
  },
  {
   "cell_type": "code",
   "execution_count": null,
   "id": "01acb2ea",
   "metadata": {},
   "outputs": [],
   "source": [
    "def nothing(x):\n",
    "    pass\n",
    "\n",
    "cv2.namedWindow('Image')\n",
    "\n",
    "cv2.createTrackbar('min', 'Image', 0, 100, nothing)\n",
    "cv2.createTrackbar('max', 'Image', 0, 100, nothing)\n",
    "cv2.createTrackbar('min_line_length', 'Image', 0, 100, nothing)\n",
    "cv2.createTrackbar('max_line_gap', 'Image', 0, 100, nothing)\n",
    "\n",
    "while 1:\n",
    "    \n",
    "    min = cv2.getTrackbarPos('min', 'Image')\n",
    "    max= cv2.getTrackbarPos('max', 'Image')\n",
    "    min_line_length = cv2.getTrackbarPos('min_line_length', 'Image')\n",
    "    max_line_gap= cv2.getTrackbarPos('max_line_gap', 'Image')\n",
    "\n",
    "\n",
    "    CANNY_THRESHOLD_1 = min  \n",
    "    CANNY_THRESHOLD_2 = max\n",
    "\n",
    "    cv2.imshow('Image', img)\n",
    "    k = cv2.waitKey(1)\n",
    "    if k == ord('q'):\n",
    "        break\n",
    "\n",
    "cv2.destroyAllWindows()"
   ]
  },
  {
   "cell_type": "code",
   "execution_count": null,
   "id": "8d8eb84f",
   "metadata": {},
   "outputs": [],
   "source": []
  },
  {
   "cell_type": "code",
   "execution_count": null,
   "id": "7065147d",
   "metadata": {},
   "outputs": [],
   "source": [
    "\n"
   ]
  },
  {
   "cell_type": "code",
   "execution_count": null,
   "id": "e6e39cd5",
   "metadata": {},
   "outputs": [],
   "source": [
    "def canny_edges(gray): \n",
    "    kernel_size = 5 \n",
    "    blur_gray= cv2.GaussianBlur(gray, (kernel_size, kernel_size), 0)\n",
    "    edges = cv2.Canny(blur_gray, CANNY_THRESHOLD_1, CANNY_THRESHOLD_2)\n",
    "    return(edges)"
   ]
  },
  {
   "cell_type": "code",
   "execution_count": null,
   "id": "05a88d2c",
   "metadata": {},
   "outputs": [],
   "source": [
    "RHO = 1                   \n",
    "THETA = np.pi/180       \n",
    "MIN_VOTES = 10         \n"
   ]
  },
  {
   "cell_type": "code",
   "execution_count": null,
   "id": "3b8b940b",
   "metadata": {},
   "outputs": [],
   "source": [
    "def hough_lines(img):\n",
    "    lines = cv2.HoughLinesP(img, RHO, THETA, MIN_VOTES, np.array([]), minLineLength=MIN_LINE_LEN, maxLineGap=MAX_LINE_GAP)\n",
    "    return lines"
   ]
  },
  {
   "cell_type": "code",
   "execution_count": null,
   "id": "015be839",
   "metadata": {},
   "outputs": [],
   "source": [
    "edges_img = canny_edges(gray_img)\n"
   ]
  },
  {
   "cell_type": "code",
   "execution_count": null,
   "id": "33a9fcb5",
   "metadata": {},
   "outputs": [],
   "source": [
    "ROI_edges_img = helpers_masked_edges(edges_img)"
   ]
  },
  {
   "cell_type": "code",
   "execution_count": null,
   "id": "5c2317bb",
   "metadata": {},
   "outputs": [],
   "source": [
    "lines = hough_lines(ROI_edges_img)\n",
    "hough_lines_image = helpers_draw_lines(lines, ROI_edges_img)\n"
   ]
  },
  {
   "cell_type": "code",
   "execution_count": null,
   "id": "75678a20",
   "metadata": {},
   "outputs": [],
   "source": [
    "lanes = helpers_formulate_lanes(lines, ROI_edges_img)\n"
   ]
  },
  {
   "cell_type": "code",
   "execution_count": null,
   "id": "60d6ff9c",
   "metadata": {},
   "outputs": [],
   "source": [
    "lanes_image = helpers_draw_lines(lanes, ROI_edges_img)\n"
   ]
  },
  {
   "cell_type": "code",
   "execution_count": null,
   "id": "b6cb96ce",
   "metadata": {},
   "outputs": [],
   "source": [
    "final_image = cv2.addWeighted(image, 0.8, lanes_image, 1, 0) \n"
   ]
  },
  {
   "cell_type": "code",
   "execution_count": null,
   "id": "f5b3790b",
   "metadata": {},
   "outputs": [],
   "source": [
    "fig, (  (image_plt, gray_plt), \n",
    "        (edges_plt, ROI_edges_plt), \n",
    "        (hough_lines_image_plt, lanes_image_plt),\n",
    "        (finale_image_plt, finale_image_plt_2)) = plt.subplots(4, 2, figsize=(20, 20))\n",
    "\n",
    "image_plt.imshow(image)\n",
    "image_plt.set_title('Original')\n",
    "gray_plt.imshow(gray_img, cmap='gray')\n",
    "gray_plt.set_title('Gray')\n",
    "\n",
    "edges_plt.imshow(edges_img)\n",
    "edges_plt.set_title('Edges')\n",
    "ROI_edges_plt.imshow(ROI_edges_img)\n",
    "ROI_edges_plt.set_title('ROI Edges')\n",
    "\n",
    "hough_lines_image_plt.imshow(hough_lines_image)\n",
    "hough_lines_image_plt.set_title('Lines from Hough')\n",
    "lanes_image_plt.imshow(lanes_image)\n",
    "lanes_image_plt.set_title('Lanes - 2 lines')\n",
    "\n",
    "finale_image_plt.imshow(final_image)\n",
    "finale_image_plt.set_title('Fianl Image')\n",
    "\n",
    "finale_image_plt_2.imshow(final_image)\n",
    "finale_image_plt_2.set_title('Fianl Image')\n",
    "\n",
    "fig.suptitle('Lane lines pipeline')\n",
    "\n",
    "plt.show()"
   ]
  },
  {
   "cell_type": "code",
   "execution_count": null,
   "id": "f416c114",
   "metadata": {},
   "outputs": [],
   "source": []
  },
  {
   "cell_type": "code",
   "execution_count": null,
   "id": "725cd5b4",
   "metadata": {},
   "outputs": [],
   "source": []
  }
 ],
 "metadata": {
  "kernelspec": {
   "display_name": "Python 3 (ipykernel)",
   "language": "python",
   "name": "python3"
  },
  "language_info": {
   "codemirror_mode": {
    "name": "ipython",
    "version": 3
   },
   "file_extension": ".py",
   "mimetype": "text/x-python",
   "name": "python",
   "nbconvert_exporter": "python",
   "pygments_lexer": "ipython3",
   "version": "3.9.12"
  }
 },
 "nbformat": 4,
 "nbformat_minor": 5
}
