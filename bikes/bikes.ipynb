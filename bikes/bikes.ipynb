{
 "cells": [
  {
   "cell_type": "code",
   "execution_count": 1,
   "id": "91b53d97",
   "metadata": {},
   "outputs": [],
   "source": [
    "import pandas as pd\n",
    "import numpy as np\n",
    "import seaborn as sns\n",
    "import matplotlib_inline as plt\n",
    "%matplotlib inline\n",
    "sns.set(rc={'figure.figsize': [7, 7]}, font_scale=1.2)"
   ]
  },
  {
   "cell_type": "code",
   "execution_count": 2,
   "id": "b5872ed5",
   "metadata": {},
   "outputs": [
    {
     "data": {
      "text/html": [
       "<div>\n",
       "<style scoped>\n",
       "    .dataframe tbody tr th:only-of-type {\n",
       "        vertical-align: middle;\n",
       "    }\n",
       "\n",
       "    .dataframe tbody tr th {\n",
       "        vertical-align: top;\n",
       "    }\n",
       "\n",
       "    .dataframe thead th {\n",
       "        text-align: right;\n",
       "    }\n",
       "</style>\n",
       "<table border=\"1\" class=\"dataframe\">\n",
       "  <thead>\n",
       "    <tr style=\"text-align: right;\">\n",
       "      <th></th>\n",
       "      <th>date</th>\n",
       "      <th>temperature</th>\n",
       "      <th>humidity</th>\n",
       "      <th>windspeed</th>\n",
       "      <th>count</th>\n",
       "    </tr>\n",
       "  </thead>\n",
       "  <tbody>\n",
       "    <tr>\n",
       "      <th>0</th>\n",
       "      <td>2011-01-03</td>\n",
       "      <td>2.716070</td>\n",
       "      <td>45.715346</td>\n",
       "      <td>21.414957</td>\n",
       "      <td>120.0</td>\n",
       "    </tr>\n",
       "    <tr>\n",
       "      <th>1</th>\n",
       "      <td>2011-01-04</td>\n",
       "      <td>2.896673</td>\n",
       "      <td>54.267219</td>\n",
       "      <td>15.136882</td>\n",
       "      <td>108.0</td>\n",
       "    </tr>\n",
       "    <tr>\n",
       "      <th>2</th>\n",
       "      <td>2011-01-05</td>\n",
       "      <td>4.235654</td>\n",
       "      <td>45.697702</td>\n",
       "      <td>17.034578</td>\n",
       "      <td>82.0</td>\n",
       "    </tr>\n",
       "    <tr>\n",
       "      <th>3</th>\n",
       "      <td>2011-01-06</td>\n",
       "      <td>3.112643</td>\n",
       "      <td>50.237349</td>\n",
       "      <td>10.091568</td>\n",
       "      <td>88.0</td>\n",
       "    </tr>\n",
       "    <tr>\n",
       "      <th>4</th>\n",
       "      <td>2011-01-07</td>\n",
       "      <td>2.723918</td>\n",
       "      <td>49.144928</td>\n",
       "      <td>15.738204</td>\n",
       "      <td>148.0</td>\n",
       "    </tr>\n",
       "  </tbody>\n",
       "</table>\n",
       "</div>"
      ],
      "text/plain": [
       "         date  temperature   humidity  windspeed  count\n",
       "0  2011-01-03     2.716070  45.715346  21.414957  120.0\n",
       "1  2011-01-04     2.896673  54.267219  15.136882  108.0\n",
       "2  2011-01-05     4.235654  45.697702  17.034578   82.0\n",
       "3  2011-01-06     3.112643  50.237349  10.091568   88.0\n",
       "4  2011-01-07     2.723918  49.144928  15.738204  148.0"
      ]
     },
     "execution_count": 2,
     "metadata": {},
     "output_type": "execute_result"
    }
   ],
   "source": [
    "bike=pd.read_csv('bikes.csv')\n",
    "bike.head()"
   ]
  },
  {
   "cell_type": "code",
   "execution_count": 3,
   "id": "605cd9c2",
   "metadata": {},
   "outputs": [
    {
     "data": {
      "text/html": [
       "<div>\n",
       "<style scoped>\n",
       "    .dataframe tbody tr th:only-of-type {\n",
       "        vertical-align: middle;\n",
       "    }\n",
       "\n",
       "    .dataframe tbody tr th {\n",
       "        vertical-align: top;\n",
       "    }\n",
       "\n",
       "    .dataframe thead th {\n",
       "        text-align: right;\n",
       "    }\n",
       "</style>\n",
       "<table border=\"1\" class=\"dataframe\">\n",
       "  <thead>\n",
       "    <tr style=\"text-align: right;\">\n",
       "      <th></th>\n",
       "      <th>temperature</th>\n",
       "      <th>humidity</th>\n",
       "      <th>windspeed</th>\n",
       "      <th>count</th>\n",
       "    </tr>\n",
       "  </thead>\n",
       "  <tbody>\n",
       "    <tr>\n",
       "      <th>count</th>\n",
       "      <td>729.000000</td>\n",
       "      <td>729.000000</td>\n",
       "      <td>729.000000</td>\n",
       "      <td>729.000000</td>\n",
       "    </tr>\n",
       "    <tr>\n",
       "      <th>mean</th>\n",
       "      <td>17.762024</td>\n",
       "      <td>56.514591</td>\n",
       "      <td>17.241418</td>\n",
       "      <td>622.818930</td>\n",
       "    </tr>\n",
       "    <tr>\n",
       "      <th>std</th>\n",
       "      <td>8.921313</td>\n",
       "      <td>7.348730</td>\n",
       "      <td>5.222353</td>\n",
       "      <td>383.958772</td>\n",
       "    </tr>\n",
       "    <tr>\n",
       "      <th>min</th>\n",
       "      <td>-2.200000</td>\n",
       "      <td>21.300000</td>\n",
       "      <td>5.300000</td>\n",
       "      <td>2.000000</td>\n",
       "    </tr>\n",
       "    <tr>\n",
       "      <th>25%</th>\n",
       "      <td>10.066578</td>\n",
       "      <td>51.561669</td>\n",
       "      <td>13.462096</td>\n",
       "      <td>256.333333</td>\n",
       "    </tr>\n",
       "    <tr>\n",
       "      <th>50%</th>\n",
       "      <td>18.087694</td>\n",
       "      <td>56.546144</td>\n",
       "      <td>16.656522</td>\n",
       "      <td>639.000000</td>\n",
       "    </tr>\n",
       "    <tr>\n",
       "      <th>75%</th>\n",
       "      <td>25.455587</td>\n",
       "      <td>61.423987</td>\n",
       "      <td>20.320807</td>\n",
       "      <td>891.666667</td>\n",
       "    </tr>\n",
       "    <tr>\n",
       "      <th>max</th>\n",
       "      <td>35.100000</td>\n",
       "      <td>75.600000</td>\n",
       "      <td>35.200000</td>\n",
       "      <td>1820.000000</td>\n",
       "    </tr>\n",
       "  </tbody>\n",
       "</table>\n",
       "</div>"
      ],
      "text/plain": [
       "       temperature    humidity   windspeed        count\n",
       "count   729.000000  729.000000  729.000000   729.000000\n",
       "mean     17.762024   56.514591   17.241418   622.818930\n",
       "std       8.921313    7.348730    5.222353   383.958772\n",
       "min      -2.200000   21.300000    5.300000     2.000000\n",
       "25%      10.066578   51.561669   13.462096   256.333333\n",
       "50%      18.087694   56.546144   16.656522   639.000000\n",
       "75%      25.455587   61.423987   20.320807   891.666667\n",
       "max      35.100000   75.600000   35.200000  1820.000000"
      ]
     },
     "execution_count": 3,
     "metadata": {},
     "output_type": "execute_result"
    }
   ],
   "source": [
    "bike.describe()"
   ]
  },
  {
   "cell_type": "code",
   "execution_count": 4,
   "id": "ce73cec8",
   "metadata": {},
   "outputs": [
    {
     "data": {
      "text/plain": [
       "<bound method DataFrame.info of            date  temperature   humidity  windspeed       count\n",
       "0    2011-01-03     2.716070  45.715346  21.414957  120.000000\n",
       "1    2011-01-04     2.896673  54.267219  15.136882  108.000000\n",
       "2    2011-01-05     4.235654  45.697702  17.034578   82.000000\n",
       "3    2011-01-06     3.112643  50.237349  10.091568   88.000000\n",
       "4    2011-01-07     2.723918  49.144928  15.738204  148.000000\n",
       "..          ...          ...        ...        ...         ...\n",
       "724  2012-12-27     5.587201  57.755931  28.678187  247.000000\n",
       "725  2012-12-28     5.545775  54.242931  14.792709  644.000000\n",
       "726  2012-12-29     4.924888  54.010283  14.777848  575.666667\n",
       "727  2012-12-30     4.304001  53.777635  14.762987  507.333333\n",
       "728  2012-12-31     3.683114  53.544987  14.748127  439.000000\n",
       "\n",
       "[729 rows x 5 columns]>"
      ]
     },
     "execution_count": 4,
     "metadata": {},
     "output_type": "execute_result"
    }
   ],
   "source": [
    "bike.info"
   ]
  },
  {
   "cell_type": "code",
   "execution_count": 5,
   "id": "6879a423",
   "metadata": {},
   "outputs": [
    {
     "data": {
      "text/plain": [
       "(729, 5)"
      ]
     },
     "execution_count": 5,
     "metadata": {},
     "output_type": "execute_result"
    }
   ],
   "source": [
    "bike.shape"
   ]
  },
  {
   "cell_type": "code",
   "execution_count": 6,
   "id": "6a20da9a",
   "metadata": {},
   "outputs": [
    {
     "data": {
      "text/plain": [
       "date           729\n",
       "temperature    613\n",
       "humidity       659\n",
       "windspeed      689\n",
       "count          626\n",
       "dtype: int64"
      ]
     },
     "execution_count": 6,
     "metadata": {},
     "output_type": "execute_result"
    }
   ],
   "source": [
    "bike.nunique()"
   ]
  },
  {
   "cell_type": "code",
   "execution_count": 7,
   "id": "8bb70fd7",
   "metadata": {},
   "outputs": [
    {
     "data": {
      "text/plain": [
       "date           0\n",
       "temperature    0\n",
       "humidity       0\n",
       "windspeed      0\n",
       "count          0\n",
       "dtype: int64"
      ]
     },
     "execution_count": 7,
     "metadata": {},
     "output_type": "execute_result"
    }
   ],
   "source": [
    "bike.isnull().sum()"
   ]
  },
  {
   "cell_type": "code",
   "execution_count": 8,
   "id": "adb83cff",
   "metadata": {},
   "outputs": [],
   "source": [
    "# from datetime import datetime"
   ]
  },
  {
   "cell_type": "code",
   "execution_count": null,
   "id": "07018e8b",
   "metadata": {},
   "outputs": [],
   "source": []
  },
  {
   "cell_type": "code",
   "execution_count": 9,
   "id": "c65544cc",
   "metadata": {},
   "outputs": [],
   "source": [
    "date=lambda x:float(x[0])"
   ]
  },
  {
   "cell_type": "code",
   "execution_count": 10,
   "id": "50915570",
   "metadata": {},
   "outputs": [],
   "source": [
    "bike.date=bike.date.apply(date)"
   ]
  },
  {
   "cell_type": "code",
   "execution_count": 11,
   "id": "faaf5652",
   "metadata": {},
   "outputs": [
    {
     "data": {
      "text/plain": [
       "dtype('float64')"
      ]
     },
     "execution_count": 11,
     "metadata": {},
     "output_type": "execute_result"
    }
   ],
   "source": [
    "bike.date.dtypes"
   ]
  },
  {
   "cell_type": "code",
   "execution_count": null,
   "id": "e4bde4b9",
   "metadata": {},
   "outputs": [],
   "source": []
  },
  {
   "cell_type": "code",
   "execution_count": 12,
   "id": "cc247ad9",
   "metadata": {},
   "outputs": [
    {
     "data": {
      "text/html": [
       "<div>\n",
       "<style scoped>\n",
       "    .dataframe tbody tr th:only-of-type {\n",
       "        vertical-align: middle;\n",
       "    }\n",
       "\n",
       "    .dataframe tbody tr th {\n",
       "        vertical-align: top;\n",
       "    }\n",
       "\n",
       "    .dataframe thead th {\n",
       "        text-align: right;\n",
       "    }\n",
       "</style>\n",
       "<table border=\"1\" class=\"dataframe\">\n",
       "  <thead>\n",
       "    <tr style=\"text-align: right;\">\n",
       "      <th></th>\n",
       "      <th>date</th>\n",
       "      <th>temperature</th>\n",
       "      <th>humidity</th>\n",
       "      <th>windspeed</th>\n",
       "      <th>count</th>\n",
       "    </tr>\n",
       "  </thead>\n",
       "  <tbody>\n",
       "    <tr>\n",
       "      <th>0</th>\n",
       "      <td>2.0</td>\n",
       "      <td>2.716070</td>\n",
       "      <td>45.715346</td>\n",
       "      <td>21.414957</td>\n",
       "      <td>120.0</td>\n",
       "    </tr>\n",
       "    <tr>\n",
       "      <th>1</th>\n",
       "      <td>2.0</td>\n",
       "      <td>2.896673</td>\n",
       "      <td>54.267219</td>\n",
       "      <td>15.136882</td>\n",
       "      <td>108.0</td>\n",
       "    </tr>\n",
       "    <tr>\n",
       "      <th>2</th>\n",
       "      <td>2.0</td>\n",
       "      <td>4.235654</td>\n",
       "      <td>45.697702</td>\n",
       "      <td>17.034578</td>\n",
       "      <td>82.0</td>\n",
       "    </tr>\n",
       "    <tr>\n",
       "      <th>3</th>\n",
       "      <td>2.0</td>\n",
       "      <td>3.112643</td>\n",
       "      <td>50.237349</td>\n",
       "      <td>10.091568</td>\n",
       "      <td>88.0</td>\n",
       "    </tr>\n",
       "    <tr>\n",
       "      <th>4</th>\n",
       "      <td>2.0</td>\n",
       "      <td>2.723918</td>\n",
       "      <td>49.144928</td>\n",
       "      <td>15.738204</td>\n",
       "      <td>148.0</td>\n",
       "    </tr>\n",
       "  </tbody>\n",
       "</table>\n",
       "</div>"
      ],
      "text/plain": [
       "   date  temperature   humidity  windspeed  count\n",
       "0   2.0     2.716070  45.715346  21.414957  120.0\n",
       "1   2.0     2.896673  54.267219  15.136882  108.0\n",
       "2   2.0     4.235654  45.697702  17.034578   82.0\n",
       "3   2.0     3.112643  50.237349  10.091568   88.0\n",
       "4   2.0     2.723918  49.144928  15.738204  148.0"
      ]
     },
     "execution_count": 12,
     "metadata": {},
     "output_type": "execute_result"
    }
   ],
   "source": [
    "bike.head()"
   ]
  },
  {
   "cell_type": "code",
   "execution_count": 32,
   "id": "d0b1a070",
   "metadata": {},
   "outputs": [
    {
     "data": {
      "text/html": [
       "<div>\n",
       "<style scoped>\n",
       "    .dataframe tbody tr th:only-of-type {\n",
       "        vertical-align: middle;\n",
       "    }\n",
       "\n",
       "    .dataframe tbody tr th {\n",
       "        vertical-align: top;\n",
       "    }\n",
       "\n",
       "    .dataframe thead th {\n",
       "        text-align: right;\n",
       "    }\n",
       "</style>\n",
       "<table border=\"1\" class=\"dataframe\">\n",
       "  <thead>\n",
       "    <tr style=\"text-align: right;\">\n",
       "      <th></th>\n",
       "      <th>date</th>\n",
       "      <th>temperature</th>\n",
       "      <th>humidity</th>\n",
       "      <th>windspeed</th>\n",
       "      <th>count</th>\n",
       "    </tr>\n",
       "  </thead>\n",
       "  <tbody>\n",
       "    <tr>\n",
       "      <th>709</th>\n",
       "      <td>2.0</td>\n",
       "      <td>7.739593</td>\n",
       "      <td>51.358079</td>\n",
       "      <td>15.325268</td>\n",
       "      <td>310.000000</td>\n",
       "    </tr>\n",
       "    <tr>\n",
       "      <th>710</th>\n",
       "      <td>2.0</td>\n",
       "      <td>7.656791</td>\n",
       "      <td>48.426717</td>\n",
       "      <td>16.123607</td>\n",
       "      <td>425.000000</td>\n",
       "    </tr>\n",
       "    <tr>\n",
       "      <th>711</th>\n",
       "      <td>2.0</td>\n",
       "      <td>6.953152</td>\n",
       "      <td>57.197576</td>\n",
       "      <td>13.063497</td>\n",
       "      <td>429.000000</td>\n",
       "    </tr>\n",
       "    <tr>\n",
       "      <th>712</th>\n",
       "      <td>2.0</td>\n",
       "      <td>8.802005</td>\n",
       "      <td>62.114188</td>\n",
       "      <td>12.279551</td>\n",
       "      <td>356.666667</td>\n",
       "    </tr>\n",
       "    <tr>\n",
       "      <th>713</th>\n",
       "      <td>2.0</td>\n",
       "      <td>10.650858</td>\n",
       "      <td>67.030799</td>\n",
       "      <td>11.495604</td>\n",
       "      <td>284.333333</td>\n",
       "    </tr>\n",
       "    <tr>\n",
       "      <th>714</th>\n",
       "      <td>2.0</td>\n",
       "      <td>12.499710</td>\n",
       "      <td>71.947411</td>\n",
       "      <td>10.711657</td>\n",
       "      <td>212.000000</td>\n",
       "    </tr>\n",
       "    <tr>\n",
       "      <th>715</th>\n",
       "      <td>2.0</td>\n",
       "      <td>13.368952</td>\n",
       "      <td>58.500386</td>\n",
       "      <td>19.495790</td>\n",
       "      <td>433.000000</td>\n",
       "    </tr>\n",
       "    <tr>\n",
       "      <th>716</th>\n",
       "      <td>2.0</td>\n",
       "      <td>9.478076</td>\n",
       "      <td>56.220456</td>\n",
       "      <td>16.834280</td>\n",
       "      <td>333.000000</td>\n",
       "    </tr>\n",
       "    <tr>\n",
       "      <th>717</th>\n",
       "      <td>2.0</td>\n",
       "      <td>9.353899</td>\n",
       "      <td>58.593463</td>\n",
       "      <td>13.151520</td>\n",
       "      <td>314.000000</td>\n",
       "    </tr>\n",
       "    <tr>\n",
       "      <th>718</th>\n",
       "      <td>2.0</td>\n",
       "      <td>9.188346</td>\n",
       "      <td>52.381767</td>\n",
       "      <td>30.407969</td>\n",
       "      <td>221.000000</td>\n",
       "    </tr>\n",
       "    <tr>\n",
       "      <th>719</th>\n",
       "      <td>2.0</td>\n",
       "      <td>7.609421</td>\n",
       "      <td>56.748790</td>\n",
       "      <td>23.342550</td>\n",
       "      <td>205.333333</td>\n",
       "    </tr>\n",
       "    <tr>\n",
       "      <th>720</th>\n",
       "      <td>2.0</td>\n",
       "      <td>6.030497</td>\n",
       "      <td>61.115812</td>\n",
       "      <td>16.277130</td>\n",
       "      <td>189.666667</td>\n",
       "    </tr>\n",
       "    <tr>\n",
       "      <th>721</th>\n",
       "      <td>2.0</td>\n",
       "      <td>4.451573</td>\n",
       "      <td>65.482835</td>\n",
       "      <td>9.211711</td>\n",
       "      <td>174.000000</td>\n",
       "    </tr>\n",
       "    <tr>\n",
       "      <th>722</th>\n",
       "      <td>2.0</td>\n",
       "      <td>4.750319</td>\n",
       "      <td>66.377012</td>\n",
       "      <td>17.747048</td>\n",
       "      <td>91.500000</td>\n",
       "    </tr>\n",
       "    <tr>\n",
       "      <th>723</th>\n",
       "      <td>2.0</td>\n",
       "      <td>5.049065</td>\n",
       "      <td>67.271190</td>\n",
       "      <td>26.282385</td>\n",
       "      <td>9.000000</td>\n",
       "    </tr>\n",
       "    <tr>\n",
       "      <th>724</th>\n",
       "      <td>2.0</td>\n",
       "      <td>5.587201</td>\n",
       "      <td>57.755931</td>\n",
       "      <td>28.678187</td>\n",
       "      <td>247.000000</td>\n",
       "    </tr>\n",
       "    <tr>\n",
       "      <th>725</th>\n",
       "      <td>2.0</td>\n",
       "      <td>5.545775</td>\n",
       "      <td>54.242931</td>\n",
       "      <td>14.792709</td>\n",
       "      <td>644.000000</td>\n",
       "    </tr>\n",
       "    <tr>\n",
       "      <th>726</th>\n",
       "      <td>2.0</td>\n",
       "      <td>4.924888</td>\n",
       "      <td>54.010283</td>\n",
       "      <td>14.777848</td>\n",
       "      <td>575.666667</td>\n",
       "    </tr>\n",
       "    <tr>\n",
       "      <th>727</th>\n",
       "      <td>2.0</td>\n",
       "      <td>4.304001</td>\n",
       "      <td>53.777635</td>\n",
       "      <td>14.762987</td>\n",
       "      <td>507.333333</td>\n",
       "    </tr>\n",
       "    <tr>\n",
       "      <th>728</th>\n",
       "      <td>2.0</td>\n",
       "      <td>3.683114</td>\n",
       "      <td>53.544987</td>\n",
       "      <td>14.748127</td>\n",
       "      <td>439.000000</td>\n",
       "    </tr>\n",
       "  </tbody>\n",
       "</table>\n",
       "</div>"
      ],
      "text/plain": [
       "     date  temperature   humidity  windspeed       count\n",
       "709   2.0     7.739593  51.358079  15.325268  310.000000\n",
       "710   2.0     7.656791  48.426717  16.123607  425.000000\n",
       "711   2.0     6.953152  57.197576  13.063497  429.000000\n",
       "712   2.0     8.802005  62.114188  12.279551  356.666667\n",
       "713   2.0    10.650858  67.030799  11.495604  284.333333\n",
       "714   2.0    12.499710  71.947411  10.711657  212.000000\n",
       "715   2.0    13.368952  58.500386  19.495790  433.000000\n",
       "716   2.0     9.478076  56.220456  16.834280  333.000000\n",
       "717   2.0     9.353899  58.593463  13.151520  314.000000\n",
       "718   2.0     9.188346  52.381767  30.407969  221.000000\n",
       "719   2.0     7.609421  56.748790  23.342550  205.333333\n",
       "720   2.0     6.030497  61.115812  16.277130  189.666667\n",
       "721   2.0     4.451573  65.482835   9.211711  174.000000\n",
       "722   2.0     4.750319  66.377012  17.747048   91.500000\n",
       "723   2.0     5.049065  67.271190  26.282385    9.000000\n",
       "724   2.0     5.587201  57.755931  28.678187  247.000000\n",
       "725   2.0     5.545775  54.242931  14.792709  644.000000\n",
       "726   2.0     4.924888  54.010283  14.777848  575.666667\n",
       "727   2.0     4.304001  53.777635  14.762987  507.333333\n",
       "728   2.0     3.683114  53.544987  14.748127  439.000000"
      ]
     },
     "execution_count": 32,
     "metadata": {},
     "output_type": "execute_result"
    }
   ],
   "source": [
    "bike.tail(20)"
   ]
  },
  {
   "cell_type": "code",
   "execution_count": 14,
   "id": "d960d4e2",
   "metadata": {},
   "outputs": [
    {
     "data": {
      "text/plain": [
       "0      2.0\n",
       "1      2.0\n",
       "2      2.0\n",
       "3      2.0\n",
       "4      2.0\n",
       "      ... \n",
       "724    2.0\n",
       "725    2.0\n",
       "726    2.0\n",
       "727    2.0\n",
       "728    2.0\n",
       "Name: date, Length: 729, dtype: float64"
      ]
     },
     "execution_count": 14,
     "metadata": {},
     "output_type": "execute_result"
    }
   ],
   "source": [
    "bike['date']"
   ]
  },
  {
   "cell_type": "code",
   "execution_count": null,
   "id": "e3ebdb5b",
   "metadata": {},
   "outputs": [],
   "source": []
  },
  {
   "cell_type": "code",
   "execution_count": null,
   "id": "43d74384",
   "metadata": {},
   "outputs": [],
   "source": []
  },
  {
   "cell_type": "code",
   "execution_count": 15,
   "id": "dad9e4cc",
   "metadata": {},
   "outputs": [],
   "source": [
    "X=bike.iloc[ :,:-1].values\n",
    "y=bike.iloc[:,-1].values"
   ]
  },
  {
   "cell_type": "code",
   "execution_count": 16,
   "id": "cb886e13",
   "metadata": {},
   "outputs": [
    {
     "data": {
      "text/plain": [
       "(729, 4)"
      ]
     },
     "execution_count": 16,
     "metadata": {},
     "output_type": "execute_result"
    }
   ],
   "source": [
    "X.shape\n"
   ]
  },
  {
   "cell_type": "code",
   "execution_count": 17,
   "id": "1eac8f9d",
   "metadata": {},
   "outputs": [
    {
     "data": {
      "text/plain": [
       "(729,)"
      ]
     },
     "execution_count": 17,
     "metadata": {},
     "output_type": "execute_result"
    }
   ],
   "source": [
    "y.shape"
   ]
  },
  {
   "cell_type": "code",
   "execution_count": 18,
   "id": "0148b70d",
   "metadata": {},
   "outputs": [],
   "source": [
    "from sklearn.model_selection import train_test_split"
   ]
  },
  {
   "cell_type": "code",
   "execution_count": 19,
   "id": "21714d84",
   "metadata": {},
   "outputs": [],
   "source": [
    "X_train, X_test, y_train, y_test = train_test_split(X, y, test_size=0.3, random_state=42)"
   ]
  },
  {
   "cell_type": "code",
   "execution_count": 20,
   "id": "0d92337f",
   "metadata": {},
   "outputs": [
    {
     "name": "stdout",
     "output_type": "stream",
     "text": [
      "(510, 4) \n",
      " (219, 4) \n",
      " (510,) \n",
      " (219,)\n"
     ]
    }
   ],
   "source": [
    "print(X_train.shape,'\\n',X_test.shape,'\\n',y_train.shape,'\\n',y_test.shape)"
   ]
  },
  {
   "cell_type": "code",
   "execution_count": 21,
   "id": "701b1d0e",
   "metadata": {},
   "outputs": [],
   "source": [
    "from sklearn.linear_model import LinearRegression"
   ]
  },
  {
   "cell_type": "code",
   "execution_count": 22,
   "id": "6200f571",
   "metadata": {},
   "outputs": [
    {
     "data": {
      "text/plain": [
       "LinearRegression()"
      ]
     },
     "execution_count": 22,
     "metadata": {},
     "output_type": "execute_result"
    }
   ],
   "source": [
    "regessor=LinearRegression()\n",
    "regessor.fit(X_train,y_train)"
   ]
  },
  {
   "cell_type": "code",
   "execution_count": 23,
   "id": "5a579d1b",
   "metadata": {},
   "outputs": [
    {
     "data": {
      "text/html": [
       "<div>\n",
       "<style scoped>\n",
       "    .dataframe tbody tr th:only-of-type {\n",
       "        vertical-align: middle;\n",
       "    }\n",
       "\n",
       "    .dataframe tbody tr th {\n",
       "        vertical-align: top;\n",
       "    }\n",
       "\n",
       "    .dataframe thead th {\n",
       "        text-align: right;\n",
       "    }\n",
       "</style>\n",
       "<table border=\"1\" class=\"dataframe\">\n",
       "  <thead>\n",
       "    <tr style=\"text-align: right;\">\n",
       "      <th></th>\n",
       "      <th>0</th>\n",
       "      <th>1</th>\n",
       "      <th>2</th>\n",
       "      <th>3</th>\n",
       "      <th>4</th>\n",
       "      <th>5</th>\n",
       "      <th>6</th>\n",
       "      <th>7</th>\n",
       "      <th>8</th>\n",
       "      <th>9</th>\n",
       "      <th>...</th>\n",
       "      <th>209</th>\n",
       "      <th>210</th>\n",
       "      <th>211</th>\n",
       "      <th>212</th>\n",
       "      <th>213</th>\n",
       "      <th>214</th>\n",
       "      <th>215</th>\n",
       "      <th>216</th>\n",
       "      <th>217</th>\n",
       "      <th>218</th>\n",
       "    </tr>\n",
       "  </thead>\n",
       "  <tbody>\n",
       "    <tr>\n",
       "      <th>predict_count</th>\n",
       "      <td>823.507689</td>\n",
       "      <td>1120.93506</td>\n",
       "      <td>475.092637</td>\n",
       "      <td>315.691249</td>\n",
       "      <td>756.094407</td>\n",
       "      <td>768.803993</td>\n",
       "      <td>305.022173</td>\n",
       "      <td>327.909315</td>\n",
       "      <td>687.135443</td>\n",
       "      <td>293.076954</td>\n",
       "      <td>...</td>\n",
       "      <td>1179.44656</td>\n",
       "      <td>367.969972</td>\n",
       "      <td>319.295874</td>\n",
       "      <td>1050.942113</td>\n",
       "      <td>215.420391</td>\n",
       "      <td>390.790078</td>\n",
       "      <td>646.709388</td>\n",
       "      <td>1141.05504</td>\n",
       "      <td>672.660923</td>\n",
       "      <td>552.025972</td>\n",
       "    </tr>\n",
       "  </tbody>\n",
       "</table>\n",
       "<p>1 rows × 219 columns</p>\n",
       "</div>"
      ],
      "text/plain": [
       "                      0           1           2           3           4    \\\n",
       "predict_count  823.507689  1120.93506  475.092637  315.691249  756.094407   \n",
       "\n",
       "                      5           6           7           8           9    \\\n",
       "predict_count  768.803993  305.022173  327.909315  687.135443  293.076954   \n",
       "\n",
       "               ...         209         210         211          212  \\\n",
       "predict_count  ...  1179.44656  367.969972  319.295874  1050.942113   \n",
       "\n",
       "                      213         214         215         216         217  \\\n",
       "predict_count  215.420391  390.790078  646.709388  1141.05504  672.660923   \n",
       "\n",
       "                      218  \n",
       "predict_count  552.025972  \n",
       "\n",
       "[1 rows x 219 columns]"
      ]
     },
     "execution_count": 23,
     "metadata": {},
     "output_type": "execute_result"
    }
   ],
   "source": [
    "y_predict=regessor.predict(X_test)\n",
    "pred = pd.DataFrame({ 'predict_count': [k for k in y_predict]})\n",
    "pred.T"
   ]
  },
  {
   "cell_type": "code",
   "execution_count": 24,
   "id": "72e29a40",
   "metadata": {},
   "outputs": [
    {
     "data": {
      "text/html": [
       "<div>\n",
       "<style scoped>\n",
       "    .dataframe tbody tr th:only-of-type {\n",
       "        vertical-align: middle;\n",
       "    }\n",
       "\n",
       "    .dataframe tbody tr th {\n",
       "        vertical-align: top;\n",
       "    }\n",
       "\n",
       "    .dataframe thead th {\n",
       "        text-align: right;\n",
       "    }\n",
       "</style>\n",
       "<table border=\"1\" class=\"dataframe\">\n",
       "  <thead>\n",
       "    <tr style=\"text-align: right;\">\n",
       "      <th></th>\n",
       "      <th>0</th>\n",
       "      <th>1</th>\n",
       "      <th>2</th>\n",
       "      <th>3</th>\n",
       "      <th>4</th>\n",
       "      <th>5</th>\n",
       "      <th>6</th>\n",
       "      <th>7</th>\n",
       "      <th>8</th>\n",
       "      <th>9</th>\n",
       "      <th>...</th>\n",
       "      <th>209</th>\n",
       "      <th>210</th>\n",
       "      <th>211</th>\n",
       "      <th>212</th>\n",
       "      <th>213</th>\n",
       "      <th>214</th>\n",
       "      <th>215</th>\n",
       "      <th>216</th>\n",
       "      <th>217</th>\n",
       "      <th>218</th>\n",
       "    </tr>\n",
       "  </thead>\n",
       "  <tbody>\n",
       "    <tr>\n",
       "      <th>Actual count</th>\n",
       "      <td>1120.500000</td>\n",
       "      <td>673.00000</td>\n",
       "      <td>410.000000</td>\n",
       "      <td>148.000000</td>\n",
       "      <td>533.000000</td>\n",
       "      <td>684.000000</td>\n",
       "      <td>321.000000</td>\n",
       "      <td>300.000000</td>\n",
       "      <td>773.000000</td>\n",
       "      <td>182.333333</td>\n",
       "      <td>...</td>\n",
       "      <td>709.333333</td>\n",
       "      <td>240.000000</td>\n",
       "      <td>329.000000</td>\n",
       "      <td>732.000000</td>\n",
       "      <td>130.000000</td>\n",
       "      <td>182.000000</td>\n",
       "      <td>653.000000</td>\n",
       "      <td>1370.00000</td>\n",
       "      <td>909.000000</td>\n",
       "      <td>493.750000</td>\n",
       "    </tr>\n",
       "    <tr>\n",
       "      <th>predict_count</th>\n",
       "      <td>823.507689</td>\n",
       "      <td>1120.93506</td>\n",
       "      <td>475.092637</td>\n",
       "      <td>315.691249</td>\n",
       "      <td>756.094407</td>\n",
       "      <td>768.803993</td>\n",
       "      <td>305.022173</td>\n",
       "      <td>327.909315</td>\n",
       "      <td>687.135443</td>\n",
       "      <td>293.076954</td>\n",
       "      <td>...</td>\n",
       "      <td>1179.446560</td>\n",
       "      <td>367.969972</td>\n",
       "      <td>319.295874</td>\n",
       "      <td>1050.942113</td>\n",
       "      <td>215.420391</td>\n",
       "      <td>390.790078</td>\n",
       "      <td>646.709388</td>\n",
       "      <td>1141.05504</td>\n",
       "      <td>672.660923</td>\n",
       "      <td>552.025972</td>\n",
       "    </tr>\n",
       "  </tbody>\n",
       "</table>\n",
       "<p>2 rows × 219 columns</p>\n",
       "</div>"
      ],
      "text/plain": [
       "                       0           1           2           3           4    \\\n",
       "Actual count   1120.500000   673.00000  410.000000  148.000000  533.000000   \n",
       "predict_count   823.507689  1120.93506  475.092637  315.691249  756.094407   \n",
       "\n",
       "                      5           6           7           8           9    \\\n",
       "Actual count   684.000000  321.000000  300.000000  773.000000  182.333333   \n",
       "predict_count  768.803993  305.022173  327.909315  687.135443  293.076954   \n",
       "\n",
       "               ...          209         210         211          212  \\\n",
       "Actual count   ...   709.333333  240.000000  329.000000   732.000000   \n",
       "predict_count  ...  1179.446560  367.969972  319.295874  1050.942113   \n",
       "\n",
       "                      213         214         215         216         217  \\\n",
       "Actual count   130.000000  182.000000  653.000000  1370.00000  909.000000   \n",
       "predict_count  215.420391  390.790078  646.709388  1141.05504  672.660923   \n",
       "\n",
       "                      218  \n",
       "Actual count   493.750000  \n",
       "predict_count  552.025972  \n",
       "\n",
       "[2 rows x 219 columns]"
      ]
     },
     "execution_count": 24,
     "metadata": {},
     "output_type": "execute_result"
    }
   ],
   "source": [
    "compare_count = pd.DataFrame({'Actual count': y_test, 'predict_count': y_predict})\n",
    "compare_count.T"
   ]
  },
  {
   "cell_type": "code",
   "execution_count": 25,
   "id": "33616818",
   "metadata": {},
   "outputs": [
    {
     "name": "stdout",
     "output_type": "stream",
     "text": [
      "Train accuracy :: 59.107989410665816 %\n",
      "Test  accuracy :: 65.49627908127582 %\n"
     ]
    }
   ],
   "source": [
    "print (f'Train accuracy :: {regessor.score(X_train,y_train)*100} %')\n",
    "print (f'Test  accuracy :: {regessor.score(X_test,y_test)*100} %')"
   ]
  },
  {
   "cell_type": "code",
   "execution_count": 26,
   "id": "0a55da12",
   "metadata": {},
   "outputs": [
    {
     "name": "stdout",
     "output_type": "stream",
     "text": [
      "MSE =  48255.87\n",
      "====================\n",
      "RMSE =  219.67\n"
     ]
    }
   ],
   "source": [
    "from sklearn.metrics import mean_squared_error\n",
    "mse=mean_squared_error(y_test,y_predict)\n",
    "print(f'MSE =  {mse:0.2f}')\n",
    "print('='*20)\n",
    "Rmse=np.sqrt(mse)\n",
    "print(f'RMSE =  {Rmse :0.2f}')"
   ]
  },
  {
   "cell_type": "code",
   "execution_count": 27,
   "id": "e0f3b3a8",
   "metadata": {},
   "outputs": [
    {
     "name": "stdout",
     "output_type": "stream",
     "text": [
      "[  0.          32.02606575 -12.89459352  -9.67596989]\n"
     ]
    }
   ],
   "source": [
    "print(regessor.coef_)"
   ]
  },
  {
   "cell_type": "code",
   "execution_count": 28,
   "id": "084f4595",
   "metadata": {},
   "outputs": [
    {
     "name": "stdout",
     "output_type": "stream",
     "text": [
      "959.1824708038167\n"
     ]
    }
   ],
   "source": [
    "print(regessor.intercept_)"
   ]
  },
  {
   "cell_type": "code",
   "execution_count": null,
   "id": "8068fd56",
   "metadata": {},
   "outputs": [],
   "source": []
  }
 ],
 "metadata": {
  "kernelspec": {
   "display_name": "Python 3 (ipykernel)",
   "language": "python",
   "name": "python3"
  },
  "language_info": {
   "codemirror_mode": {
    "name": "ipython",
    "version": 3
   },
   "file_extension": ".py",
   "mimetype": "text/x-python",
   "name": "python",
   "nbconvert_exporter": "python",
   "pygments_lexer": "ipython3",
   "version": "3.9.12"
  }
 },
 "nbformat": 4,
 "nbformat_minor": 5
}
